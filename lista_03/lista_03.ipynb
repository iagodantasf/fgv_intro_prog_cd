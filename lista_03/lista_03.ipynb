{
 "cells": [
  {
   "cell_type": "markdown",
   "id": "6b24779b",
   "metadata": {},
   "source": [
    "# Lista 3 de Introdução à Programação e Ciência de Dados\n",
    "\n",
    "Professor: Rafael de Pinho\n",
    "\n",
    "Monitor: Sillas Rocha\n",
    "\n",
    "Aluno: Iago Dantas Figueirêdo"
   ]
  },
  {
   "cell_type": "markdown",
   "id": "f3c0c8b6",
   "metadata": {},
   "source": [
    "## Instruções Gerais\n",
    "- Cada questão deve ser implementada em um módulo separado, com funções reutilizáveis.\n",
    "- Documente todas as funções com docstrings no estilo PEP 257 e use type hints.\n",
    "- Utilize apenas as bibliotecas padrão do Python e o NumPy. Bibliotecas como ```pandas```, ```scipy``` e similares não são permitidas."
   ]
  },
  {
   "cell_type": "code",
   "execution_count": 1,
   "id": "cfdf5a08",
   "metadata": {},
   "outputs": [],
   "source": [
    "%load_ext autoreload\n",
    "%autoreload 2"
   ]
  },
  {
   "cell_type": "code",
   "execution_count": 2,
   "id": "400abc0f",
   "metadata": {},
   "outputs": [],
   "source": [
    "import numpy as np\n",
    "from simulations import (\n",
    "    simular_precos,\n",
    "    calc_retornos_simples,\n",
    "    calc_retornos_log,\n",
    "    sma,\n",
    "    rolling_std,\n",
    ")\n",
    "from operations import (\n",
    "    rotate_90,\n",
    "    sum_subdiagonals,\n",
    "    block_mat_mul,\n",
    ")\n",
    "from filters import (\n",
    "    replace_negatives,\n",
    "    local_peaks,\n",
    ")"
   ]
  },
  {
   "cell_type": "markdown",
   "id": "3bb3bda7",
   "metadata": {},
   "source": [
    "## Parte 1: Simulação de Preços e Análise de Retornos\n",
    "\n",
    "Esta primeira parte desenvolve a simulação de dados, esse tipo de simulação possui diversos usos. Implemente todos estes exercícios no módulo \"simulations.py\"."
   ]
  },
  {
   "cell_type": "markdown",
   "id": "65d09885",
   "metadata": {},
   "source": [
    "### 1. Simulação de Série de Preços com Ruído Gaussiano\n",
    "**Função**: simular_precos(S0: float, sigma: float, days: int) -> np.ndarray\n",
    "\n",
    "**Descrição**: Gere uma série temporal de preços de ações de forma simplificada:\n",
    "\n",
    "$$\n",
    "S_{t+1}=S_t+\\varepsilon_t, \\quad \\varepsilon_t \\sim \\mathcal{N}\\left(0, \\sigma^2\\right) .\n",
    "$$\n",
    "\n",
    "\n",
    "A função deve retornar um ```np.ndarray``` de tamanho ```days + 1``` , onde o primeiro elemento é S0 e, a cada passo, soma-se um ruído normal de desvio padrão ```sigma```.\n",
    "\n",
    "**Parâmetros**:\n",
    "- ```S0```: preço inicial positivo.\n",
    "- ```sigma```: desvio padrão do ruído (volatilidade).\n",
    "- ```days```: número de dias a simular.\n",
    "\n",
    "**Retorno**: ```np.ndarray``` com preços simulados."
   ]
  },
  {
   "cell_type": "code",
   "execution_count": 3,
   "id": "c4cc5645",
   "metadata": {},
   "outputs": [
    {
     "name": "stdout",
     "output_type": "stream",
     "text": [
      "Preços simulados para 21 dias:\n",
      "Dia 0: 100.00\n",
      "Dia 1: 100.50\n",
      "Dia 2: 100.36\n",
      "Dia 3: 101.01\n",
      "Dia 4: 102.53\n",
      "Dia 5: 102.30\n",
      "Dia 6: 102.06\n",
      "Dia 7: 103.64\n",
      "Dia 8: 104.41\n",
      "Dia 9: 103.94\n",
      "Dia 10: 104.48\n",
      "Dia 11: 104.02\n",
      "Dia 12: 103.55\n",
      "Dia 13: 103.79\n",
      "Dia 14: 101.88\n",
      "Dia 15: 100.16\n",
      "Dia 16: 99.59\n",
      "Dia 17: 98.58\n",
      "Dia 18: 98.89\n",
      "Dia 19: 97.99\n",
      "Dia 20: 96.57\n",
      "Dia 21: 98.04\n"
     ]
    }
   ],
   "source": [
    "# Exemplo de uso da função simular_precos\n",
    "\n",
    "S0 = 100\n",
    "sigma = 1\n",
    "days = 21\n",
    "\n",
    "precos = simular_precos(S0, sigma, days)\n",
    "\n",
    "print(f\"Preços simulados para {days} dias:\")\n",
    "for i, preco in enumerate(precos):\n",
    "    print(f\"Dia {i}: {preco:.2f}\")"
   ]
  },
  {
   "cell_type": "markdown",
   "id": "d16ca1b2",
   "metadata": {},
   "source": [
    "### 2. Cálculo de Retornos Simples e Logarítmicos\n",
    "\n",
    "**Função**: ```calc_retornos_simples(prices: np.ndarray) -> np.ndarray```\n",
    "\n",
    "**Descrição**: Dado um vetor de preços $P=\\left[P_0, P_1, \\ldots, P_n\\right]$, calcule os retornos simples diários:\n",
    "\n",
    "$$\n",
    "r_t=\\frac{P_t-P_{t-1}}{P_{t-1}}, \\quad t=1, \\ldots, n\n",
    "$$\n",
    "\n",
    "Retorne um vetor de dimensão $n$.\n",
    "\n",
    "---\n",
    "\n",
    "**Função**: ```calc_retornos_log(prices: np.ndarray) -> np.ndarray```\n",
    "\n",
    "**Descrição**: Para o mesmo vetor de preços $P$, calcule os log-retornos:\n",
    "\n",
    "$$\n",
    "r_t^{\\log }=\\ln \\left(P_t / P_{t-1}\\right), \\quad t=1, \\ldots, n .\n",
    "$$\n",
    "\n",
    "\n",
    "Retorne um vetor de dimensão $n$."
   ]
  },
  {
   "cell_type": "code",
   "execution_count": 4,
   "id": "c97d786b",
   "metadata": {},
   "outputs": [
    {
     "name": "stdout",
     "output_type": "stream",
     "text": [
      "\n",
      "Retornos Simples:\n",
      "Dia 1: 0.0200\n",
      "Dia 2: -0.0098\n",
      "Dia 3: 0.0396\n",
      "Dia 4: 0.0190\n",
      "\n",
      "Retornos Logarítmicos:\n",
      "Dia 1: 0.0198\n",
      "Dia 2: -0.0099\n",
      "Dia 3: 0.0388\n",
      "Dia 4: 0.0189\n"
     ]
    }
   ],
   "source": [
    "# Exemplo de uso das funções calc_retornos_simples e calc_retornos_log\n",
    "\n",
    "prices = np.array([100, 102, 101, 105, 107])\n",
    "\n",
    "retornos_simples = calc_retornos_simples(prices)\n",
    "retornos_log = calc_retornos_log(prices)\n",
    "\n",
    "print(\"\\nRetornos Simples:\")\n",
    "for i, retorno in enumerate(retornos_simples):\n",
    "    print(f\"Dia {i+1}: {retorno:.4f}\")\n",
    "print(\"\\nRetornos Logarítmicos:\")\n",
    "for i, retorno in enumerate(retornos_log):\n",
    "    print(f\"Dia {i+1}: {retorno:.4f}\")"
   ]
  },
  {
   "cell_type": "markdown",
   "id": "b83db396",
   "metadata": {},
   "source": [
    "### 3. Indicadores Móveis: Média e Volatilidade\n",
    "\n",
    "**Função**: ```sma(returns: np.ndarray, window: int) -> np.ndarray```\n",
    "\n",
    "**Descrição**: Implemente a Média Móvel Simples (SMA) para um vetor de retornos $r=\\left[r_1, \\ldots, r_n\\right]$. Para cada índice $t$ a partir de $t=$ window, calcule:\n",
    "\n",
    "$$\n",
    "\\mathrm{SMA}_t=\\frac{1}{\\text { window }} \\sum_{i=t-\\text{window}+1}^t r_i .\n",
    "$$\n",
    "\n",
    "\n",
    "Retorne um vetor de tamanho $n-\\text{window}+1$.\n",
    "\n",
    "---\n",
    "\n",
    "**Função**: ```rolling_std(returns: np.ndarray, window: int, days_size: int = 0) -> np.ndarray```\n",
    "\n",
    "**Descrição**: Calcule o desvio padrão móvel para o vetor de retornos $r$. Para cada $t \\geq \\text{window}$, defina:\n",
    "\n",
    "$$\n",
    "\\bar{r}_t = \\frac{1}{\\text{window}} \\sum_{i=t-\\text{window}+1}^t r_i, \\quad \\sigma_t=\\sqrt{\\frac{1}{\\text{window - days\\_size }} \\sum_{i=t-\\text{window}+1}^t\\left(r_i-\\bar{r}_t\\right)^2} .\n",
    "$$\n",
    "\n",
    "Retorne um vetor de tamanho $n-\\text{window}+1$ . O parâmetro opcional ```days_size``` permite ajustar a normalização (por exemplo, para séries anuais, mensais, etc.)."
   ]
  },
  {
   "cell_type": "code",
   "execution_count": 5,
   "id": "85ae4e8c",
   "metadata": {},
   "outputs": [
    {
     "name": "stdout",
     "output_type": "stream",
     "text": [
      "\n",
      "SMA (Média Móvel Simples):\n",
      "Dia 3: 0.0125\n",
      "Dia 4: 0.0150\n",
      "Dia 5: 0.0050\n",
      "Dia 6: 0.0100\n",
      "\n",
      "Desvio Padrão Móvel:\n",
      "Dia 3: 0.0148\n",
      "Dia 4: 0.0150\n",
      "Dia 5: 0.0206\n",
      "Dia 6: 0.0187\n"
     ]
    }
   ],
   "source": [
    "# Exemplo de uso das funções sma e rolling_std\n",
    "\n",
    "returns = np.array([0.01, 0.02, -0.01, 0.03, 0.02, -0.02, 0.01])\n",
    "window = 4\n",
    "\n",
    "sma_result = sma(returns, window)\n",
    "rolling_std_result = rolling_std(returns, window)\n",
    "\n",
    "print(\"\\nSMA (Média Móvel Simples):\")\n",
    "for i, sma_value in enumerate(sma_result):\n",
    "    print(f\"Dia {i + window - 1}: {sma_value:.4f}\")\n",
    "print(\"\\nDesvio Padrão Móvel:\")\n",
    "for i, std_value in enumerate(rolling_std_result):\n",
    "    print(f\"Dia {i + window - 1}: {std_value:.4f}\")"
   ]
  },
  {
   "cell_type": "markdown",
   "id": "081f6f2c",
   "metadata": {},
   "source": [
    "## Parte 2: Operações em Vetores e Matrizes\n",
    "\n",
    "Os exercícios dessa seção exploram desde cálculos vetoriais simples até manipulações matriciais mais avançadas, sempre evitando atalhos prontos do NumPy. Implemente-os em operations.py."
   ]
  },
  {
   "cell_type": "markdown",
   "id": "cba0e5a7",
   "metadata": {},
   "source": [
    "### 1. Rotação de Matriz $90^{\\circ}$ no Sentido Horário\n",
    "\n",
    "**Função**: ```rotate_90(A: np.ndarray) -> np.ndarray```\n",
    "\n",
    "**Descrição**: Dada uma matriz quadrada $A \\in \\mathbb{R}^{n \\times n}$, implemente a rotação de $90^{\\circ}$ no sentido horário sem chamar ```np.rot90```. O procedimento deve seguir dois passos:\n",
    "\n",
    "1. Transpor $A$ (trocar linhas por colunas), obtendo $B=A^T$.\n",
    "2. Inverter a ordem das colunas de $B$ (cada linha de $B$ deve ser lida de trás para frente) para formar $A_{\\text{rot}}$.\n",
    "\n",
    "**Parâmetros**:\n",
    "- ```A```: matriz quadrada de formato $(n, n)$.\n",
    "\n",
    "**Retorno**: matriz rotacionada $A_{\\text{rot}} \\in \\mathbb{R}^{n \\times n}$."
   ]
  },
  {
   "cell_type": "code",
   "execution_count": 6,
   "id": "583bdbf0",
   "metadata": {},
   "outputs": [
    {
     "name": "stdout",
     "output_type": "stream",
     "text": [
      "\n",
      "Matriz Original:\n",
      "[[1 2 3]\n",
      " [4 5 6]\n",
      " [7 8 9]]\n",
      "\n",
      "Matriz Rotacionada 90 graus:\n",
      "[[7 4 1]\n",
      " [8 5 2]\n",
      " [9 6 3]]\n"
     ]
    }
   ],
   "source": [
    "# Exemplo de uso da função rotate_90\n",
    "\n",
    "matrix = np.array([[1, 2, 3], [4, 5, 6], [7, 8, 9]])\n",
    "\n",
    "rotated_matrix = rotate_90(matrix)\n",
    "\n",
    "print(\"\\nMatriz Original:\")\n",
    "print(matrix)\n",
    "print(\"\\nMatriz Rotacionada 90 graus:\")\n",
    "print(rotated_matrix)"
   ]
  },
  {
   "cell_type": "markdown",
   "id": "390b14ff",
   "metadata": {},
   "source": [
    "### 2. Soma de Subdiagonais de uma Matriz\n",
    "\n",
    "**Função**: ```sum_subdiagonals(A: np.ndarray, k: int) -> float```\n",
    "\n",
    "**Descrição**: Considere $A \\in \\mathbb{R}^{n \\times n}$ e um inteiro $k$ tal que $1 \\leq k<n$. Calcule a soma dos elementos na $k$-ésima subdiagonal abaixo da diagonal principal, isto é,\n",
    "\n",
    "$$\n",
    "\\sum_{i=k}^{n-1} A_{i, i-k} .\n",
    "$$\n",
    "\n",
    "Não utilize np.diag(A, -k); implemente a indexação manual (por exemplo, em um loop ou compreensão de lista).\n",
    "\n",
    "**Parâmetros**:\n",
    "- ```A```: matriz quadrada de dimensão $(n, n)$.\n",
    "- ```k``` : inteiro, $1 \\leq k<n$.\n",
    "\n",
    "**Retorno**: valor escalar (float) com a soma dos elementos da subdiagonal."
   ]
  },
  {
   "cell_type": "code",
   "execution_count": 7,
   "id": "1e074600",
   "metadata": {},
   "outputs": [
    {
     "name": "stdout",
     "output_type": "stream",
     "text": [
      "\n",
      "Matriz Original:\n",
      "[[1 2 3]\n",
      " [4 5 6]\n",
      " [7 8 9]]\n",
      "\n",
      "Soma dos elementos da subdiagonal com k=1: 12.0\n"
     ]
    }
   ],
   "source": [
    "# Exemplo de uso da função sum_subdiagonals\n",
    "\n",
    "matrix = np.array([[1, 2, 3], [4, 5, 6], [7, 8, 9]])\n",
    "k = 1\n",
    "\n",
    "subdiag_sum = sum_subdiagonals(matrix, k)\n",
    "\n",
    "print(\"\\nMatriz Original:\")\n",
    "print(matrix)\n",
    "print(f\"\\nSoma dos elementos da subdiagonal com k={k}: {subdiag_sum}\")"
   ]
  },
  {
   "cell_type": "markdown",
   "id": "4181ef96",
   "metadata": {},
   "source": [
    "### 3. Multiplicação de Matrizes em Blocos\n",
    "\n",
    "**Função**: ```block_matmul(A: np.ndarray, B: np.ndarray, block_size: int) -> np.ndarray```\n",
    "\n",
    "**Descrição**: Implemente a multiplicação de duas matrizes $A$ e $B$, ambas de formato compatível para produto, dividindo-as em subblocos de tamanho ```block_size```. Para cada par de blocos, compute o produto parcimonioso e acumule resultados:\n",
    "\n",
    "$$\n",
    "C=A \\times B, \\quad C_{i, j}=\\sum_k A_{i, k} \\cdot B_{k, j} .\n",
    "$$\n",
    "\n",
    "A ideia é percorrer $A$ e $B$ por blocos ($i_0: i_0+$ block_size, $k_0: k_0+$ block_size), multiplicar blocos correspondentes e somar ao bloco de $C$. Não utilize ```np.dot``` ou ```A @ B``` diretamente para todo o produto, mas apenas para cada subbloco individual.\n",
    "\n",
    "**Parâmetros**:\n",
    "- ```A```, ```B```: matrizes $\\in \\mathbb{R}^{m \\times p}$ e $\\mathbb{R}^{p \\times n}$, respectivamente.\n",
    "- ```block_size```: inteiro $>0$ indicando o tamanho de cada subbloco quadrado.\n",
    "\n",
    "Retorno: matriz $C \\in \\mathbb{R}^{m \\times n}$ resultado do produto em blocos."
   ]
  },
  {
   "cell_type": "code",
   "execution_count": 8,
   "id": "056bcbfc",
   "metadata": {},
   "outputs": [
    {
     "name": "stdout",
     "output_type": "stream",
     "text": [
      "\n",
      "Matriz A:\n",
      "[[1 2 3 4]\n",
      " [5 6 7 8]]\n",
      "\n",
      "Matriz B:\n",
      "[[1 2]\n",
      " [3 4]\n",
      " [5 6]\n",
      " [7 8]]\n",
      "\n",
      "Produto de Matriz em Blocos:\n",
      "[[ 50  60]\n",
      " [114 140]]\n"
     ]
    }
   ],
   "source": [
    "# Exemplo de uso da função block_mat_mul\n",
    "\n",
    "A = np.array([[1, 2, 3, 4], [5, 6, 7, 8]])\n",
    "B = np.array([[1, 2], [3, 4], [5, 6], [7, 8]])\n",
    "block_size = 2\n",
    "\n",
    "C = block_mat_mul(A, B, block_size)\n",
    "print(\"\\nMatriz A:\")\n",
    "print(A)\n",
    "print(\"\\nMatriz B:\")\n",
    "print(B)\n",
    "print(\"\\nProduto de Matriz em Blocos:\")\n",
    "print(C)"
   ]
  },
  {
   "cell_type": "markdown",
   "id": "a94b5916",
   "metadata": {},
   "source": [
    "## Parte 3: Filtragem e Picos\n",
    "A última parte reúne exercícios de tratamento de sinais e filtragem através de indexação booleana, detecção de picos. Implemente em filters.py"
   ]
  },
  {
   "cell_type": "markdown",
   "id": "25776bc5",
   "metadata": {},
   "source": [
    "### 1. Substituição Condicional em Vetores\n",
    "\n",
    "**Função**: ```replace_negatives(v: np.ndarray, new_value: float) -> np.ndarray```\n",
    "\n",
    "**Descrição**: Dado um vetor $v=\\left[v_1, \\ldots, v_n\\right]$, crie uma cópia e substitua cada entrada negativa por ```new_value```. Não use ```np.where```; faça indexação booleana para localizar posições onde $v_i<0$ e atribua ```new_value```.\n",
    "\n",
    "**Parâmetros**:\n",
    "- ```v``` : vetor $\\in \\mathbb{R}^n$.\n",
    "- ```new_value```: valor escalar que substituirá cada elemento negativo.\n",
    "\n",
    "Retorno: novo vetor onde todas as entradas negativas de $v$ foram trocadas por ```new_value```."
   ]
  },
  {
   "cell_type": "code",
   "execution_count": 9,
   "id": "dbc8b603",
   "metadata": {},
   "outputs": [
    {
     "name": "stdout",
     "output_type": "stream",
     "text": [
      "\n",
      "Vetor Original:\n",
      "[-1  2 -3  4 -5]\n",
      "\n",
      "Vetor com Negativos Substituídos por 7:\n",
      "[7 2 7 4 7]\n"
     ]
    }
   ],
   "source": [
    "# Exemplo de uso da função replace_negatives\n",
    "\n",
    "v = np.array([-1, 2, -3, 4, -5])\n",
    "new_value = 7\n",
    "\n",
    "v_replaced = replace_negatives(v, new_value)\n",
    "\n",
    "print(\"\\nVetor Original:\")\n",
    "print(v)\n",
    "print(f\"\\nVetor com Negativos Substituídos por {new_value}:\")\n",
    "print(v_replaced)"
   ]
  },
  {
   "cell_type": "markdown",
   "id": "cdd10058",
   "metadata": {},
   "source": [
    "### 2. Identificação de Máximos Locais em Série Temporal\n",
    "\n",
    "**Função**: ```local_peaks(series: np.ndarray) -> Tuple[np.ndarray, np.ndarray]```\n",
    "\n",
    "**Descrição**: Dada uma série temporal unidimensional $\\left\\{x_1, x_2, \\ldots, x_N\\right\\}$ com $N \\geq 3$, encontre todos os máximos locais $x_t$ tais que $x_{t-1}<x_t>x_{t+1}$, para $2 \\leq t \\leq N-1$. Retorne:\n",
    "- ```indices```: vetor de inteiros contendo as posições $t$ em que há máximos locais.\n",
    "- ```peaks```: vetor de floats com os valores $x_t$ correspondentes.\n",
    "\n",
    "Compare manualmente cada tripla $\\left(x_{t-1}, x_t, x_{t+1}\\right)$.\n",
    "\n",
    "**Parâmetros**:\n",
    "- ```series```: vetor $\\in \\mathbb{R}^N$.\n",
    "\n",
    "**Retorno**: tupla (```indices```, ```peaks```)."
   ]
  },
  {
   "cell_type": "code",
   "execution_count": 10,
   "id": "a8e68a00",
   "metadata": {},
   "outputs": [
    {
     "name": "stdout",
     "output_type": "stream",
     "text": [
      "\n",
      "Série Original:\n",
      "[1 3 2 5 4 6 5 7 8 6]\n",
      "\n",
      "Picos Locais Encontrados:\n",
      "Índice: 2, Pico: 3\n",
      "Índice: 4, Pico: 5\n",
      "Índice: 6, Pico: 6\n",
      "Índice: 9, Pico: 8\n",
      "\n",
      "Verificando manualmente cada tripla (x_{t-1}, x_t, x_{t+1}):\n",
      "(x_1, x_2, x_3) = (1, 3, 2)\n",
      "(x_3, x_4, x_5) = (2, 5, 4)\n",
      "(x_5, x_6, x_7) = (4, 6, 5)\n",
      "(x_8, x_9, x_10) = (7, 8, 6)\n"
     ]
    }
   ],
   "source": [
    "# Exemplo de uso da função local_peaks\n",
    "\n",
    "series = np.array([1, 3, 2, 5, 4, 6, 5, 7, 8, 6])\n",
    "\n",
    "indices, peaks = local_peaks(series)\n",
    "\n",
    "print(\"\\nSérie Original:\")\n",
    "print(series)\n",
    "print(\"\\nPicos Locais Encontrados:\")\n",
    "for index, peak in zip(indices, peaks):\n",
    "    print(f\"Índice: {index}, Pico: {peak}\")\n",
    "print(\"\")\n",
    "print(\"Verificando manualmente cada tripla (x_{t-1}, x_t, x_{t+1}):\")\n",
    "for i in indices:\n",
    "    _i = i - 1\n",
    "    print(f\"(x_{i-1}, x_{i}, x_{i+1}) = ({series[_i-1]}, {series[_i]}, {series[_i+1]})\")"
   ]
  }
 ],
 "metadata": {
  "kernelspec": {
   "display_name": "fgv_intro_prog_cd",
   "language": "python",
   "name": "python3"
  },
  "language_info": {
   "codemirror_mode": {
    "name": "ipython",
    "version": 3
   },
   "file_extension": ".py",
   "mimetype": "text/x-python",
   "name": "python",
   "nbconvert_exporter": "python",
   "pygments_lexer": "ipython3",
   "version": "3.11.11"
  }
 },
 "nbformat": 4,
 "nbformat_minor": 5
}
