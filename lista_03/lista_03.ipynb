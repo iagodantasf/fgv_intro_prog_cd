{
 "cells": [
  {
   "cell_type": "markdown",
   "id": "6b24779b",
   "metadata": {},
   "source": [
    "# Lista 3 de Introdução à Programação e Ciência de Dados\n",
    "\n",
    "Professor: Rafael de Pinho\n",
    "\n",
    "Monitor: Sillas Rocha\n",
    "\n",
    "Aluno: Iago Dantas Figueirêdo"
   ]
  },
  {
   "cell_type": "markdown",
   "id": "f3c0c8b6",
   "metadata": {},
   "source": [
    "## Instruções Gerais\n",
    "- Cada questão deve ser implementada em um módulo separado, com funções reutilizáveis.\n",
    "- Documente todas as funções com docstrings no estilo PEP 257 e use type hints.\n",
    "- Utilize apenas as bibliotecas padrão do Python e o ```NumPy```. Bibliotecas como ```pandas```, ```scipy``` e similares não são permitidas."
   ]
  },
  {
   "cell_type": "code",
   "execution_count": 1,
   "id": "cfdf5a08",
   "metadata": {},
   "outputs": [],
   "source": [
    "%load_ext autoreload\n",
    "%autoreload 2"
   ]
  },
  {
   "cell_type": "code",
   "execution_count": 2,
   "id": "400abc0f",
   "metadata": {},
   "outputs": [],
   "source": [
    "import numpy as np\n",
    "from simulations import (\n",
    "    simular_precos,\n",
    "    calc_retornos_simples,\n",
    "    calc_retornos_log,\n",
    "    sma,\n",
    "    rolling_std,\n",
    ")"
   ]
  },
  {
   "cell_type": "markdown",
   "id": "3bb3bda7",
   "metadata": {},
   "source": [
    "## Parte 1: Simulação de Preços e Análise de Retornos\n",
    "\n",
    "Esta primeira parte desenvolve a simulação de dados, esse tipo de simulação possui diversos usos. Implemente todos estes exercícios no módulo \"simulations.py\"."
   ]
  },
  {
   "cell_type": "markdown",
   "id": "65d09885",
   "metadata": {},
   "source": [
    "### 1. Simulação de Série de Preços com Ruído Gaussiano\n",
    "**Função**: simular_precos(S0: float, sigma: float, days: int) -> np.ndarray\n",
    "\n",
    "**Descrição**: Gere uma série temporal de preços de ações de forma simplificada:\n",
    "\n",
    "$$\n",
    "S_{t+1}=S_t+\\varepsilon_t, \\quad \\varepsilon_t \\sim \\mathcal{N}\\left(0, \\sigma^2\\right) .\n",
    "$$\n",
    "\n",
    "\n",
    "A função deve retornar um ```np.ndarray``` de tamanho ```days + 1``` , onde o primeiro elemento é S0 e, a cada passo, soma-se um ruído normal de desvio padrão ```sigma```.\n",
    "\n",
    "**Parâmetros**:\n",
    "- ```S0```: preço inicial positivo.\n",
    "- ```sigma```: desvio padrão do ruído (volatilidade).\n",
    "- ```days```: número de dias a simular.\n",
    "\n",
    "**Retorno**: ```np.ndarray``` com preços simulados."
   ]
  },
  {
   "cell_type": "code",
   "execution_count": 3,
   "id": "c4cc5645",
   "metadata": {},
   "outputs": [
    {
     "name": "stdout",
     "output_type": "stream",
     "text": [
      "Preços simulados para 21 dias:\n",
      "Dia 0: 100.00\n",
      "Dia 1: 100.50\n",
      "Dia 2: 100.36\n",
      "Dia 3: 101.01\n",
      "Dia 4: 102.53\n",
      "Dia 5: 102.30\n",
      "Dia 6: 102.06\n",
      "Dia 7: 103.64\n",
      "Dia 8: 104.41\n",
      "Dia 9: 103.94\n",
      "Dia 10: 104.48\n",
      "Dia 11: 104.02\n",
      "Dia 12: 103.55\n",
      "Dia 13: 103.79\n",
      "Dia 14: 101.88\n",
      "Dia 15: 100.16\n",
      "Dia 16: 99.59\n",
      "Dia 17: 98.58\n",
      "Dia 18: 98.89\n",
      "Dia 19: 97.99\n",
      "Dia 20: 96.57\n",
      "Dia 21: 98.04\n"
     ]
    }
   ],
   "source": [
    "# Exemplo de uso da função simular_precos\n",
    "\n",
    "S0 = 100\n",
    "sigma = 1\n",
    "days = 21\n",
    "\n",
    "precos = simular_precos(S0, sigma, days)\n",
    "\n",
    "print(f\"Preços simulados para {days} dias:\")\n",
    "for i, preco in enumerate(precos):\n",
    "    print(f\"Dia {i}: {preco:.2f}\")"
   ]
  },
  {
   "cell_type": "markdown",
   "id": "d16ca1b2",
   "metadata": {},
   "source": [
    "### 2. Cálculo de Retornos Simples e Logarítmicos\n",
    "\n",
    "**Função**: ```calc_retornos_simples(prices: np.ndarray) -> np.ndarray```\n",
    "\n",
    "**Descrição**: Dado um vetor de preços $P=\\left[P_0, P_1, \\ldots, P_n\\right]$, calcule os retornos simples diários:\n",
    "\n",
    "$$\n",
    "r_t=\\frac{P_t-P_{t-1}}{P_{t-1}}, \\quad t=1, \\ldots, n\n",
    "$$\n",
    "\n",
    "Retorne um vetor de dimensão $n$.\n",
    "\n",
    "---\n",
    "\n",
    "**Função**: ```calc_retornos_log(prices: np.ndarray) -> np.ndarray```\n",
    "\n",
    "**Descrição**: Para o mesmo vetor de preços $P$, calcule os log-retornos:\n",
    "\n",
    "$$\n",
    "r_t^{\\log }=\\ln \\left(P_t / P_{t-1}\\right), \\quad t=1, \\ldots, n .\n",
    "$$\n",
    "\n",
    "\n",
    "Retorne um vetor de dimensão $n$."
   ]
  },
  {
   "cell_type": "code",
   "execution_count": 4,
   "id": "c97d786b",
   "metadata": {},
   "outputs": [
    {
     "name": "stdout",
     "output_type": "stream",
     "text": [
      "\n",
      "Retornos Simples:\n",
      "Dia 1: 0.0200\n",
      "Dia 2: -0.0098\n",
      "Dia 3: 0.0396\n",
      "Dia 4: 0.0190\n",
      "\n",
      "Retornos Logarítmicos:\n",
      "Dia 1: 0.0198\n",
      "Dia 2: -0.0099\n",
      "Dia 3: 0.0388\n",
      "Dia 4: 0.0189\n"
     ]
    }
   ],
   "source": [
    "# Exemplo de uso das funções calc_retornos_simples e calc_retornos_log\n",
    "\n",
    "prices = np.array([100, 102, 101, 105, 107])\n",
    "\n",
    "retornos_simples = calc_retornos_simples(prices)\n",
    "retornos_log = calc_retornos_log(prices)\n",
    "\n",
    "print(\"\\nRetornos Simples:\")\n",
    "for i, retorno in enumerate(retornos_simples):\n",
    "    print(f\"Dia {i+1}: {retorno:.4f}\")\n",
    "print(\"\\nRetornos Logarítmicos:\")\n",
    "for i, retorno in enumerate(retornos_log):\n",
    "    print(f\"Dia {i+1}: {retorno:.4f}\")"
   ]
  },
  {
   "cell_type": "markdown",
   "id": "b83db396",
   "metadata": {},
   "source": [
    "### 3. Indicadores Móveis: Média e Volatilidade\n",
    "\n",
    "**Função**: ```sma(returns: np.ndarray, window: int) -> np.ndarray```\n",
    "\n",
    "**Descrição**: Implemente a Média Móvel Simples (SMA) para um vetor de retornos $r=\\left[r_1, \\ldots, r_n\\right]$. Para cada índice $t$ a partir de $t=$ window, calcule:\n",
    "\n",
    "$$\n",
    "\\mathrm{SMA}_t=\\frac{1}{\\text { window }} \\sum_{i=t-\\text{window}+1}^t r_i .\n",
    "$$\n",
    "\n",
    "\n",
    "Retorne um vetor de tamanho $n-\\text{window}+1$.\n",
    "\n",
    "---\n",
    "\n",
    "**Função**: ```rolling_std(returns: np.ndarray, window: int, days_size: int = 0) -> np.ndarray```\n",
    "\n",
    "**Descrição**: Calcule o desvio padrão móvel para o vetor de retornos $r$. Para cada $t \\geq \\text{window}$, defina:\n",
    "\n",
    "$$\n",
    "\\bar{r}_t = \\frac{1}{\\text{window}} \\sum_{i=t-\\text{window}+1}^t r_i, \\quad \\sigma_t=\\sqrt{\\frac{1}{\\text{window - days\\_size }} \\sum_{i=t-\\text{window}+1}^t\\left(r_i-\\bar{r}_t\\right)^2} .\n",
    "$$\n",
    "\n",
    "Retorne um vetor de tamanho $n-\\text{window}+1$ . O parâmetro opcional ```days_size``` permite ajustar a normalização (por exemplo, para séries anuais, mensais, etc.)."
   ]
  },
  {
   "cell_type": "code",
   "execution_count": 5,
   "id": "85ae4e8c",
   "metadata": {},
   "outputs": [
    {
     "name": "stdout",
     "output_type": "stream",
     "text": [
      "\n",
      "SMA (Média Móvel Simples):\n",
      "Dia 3: 0.0125\n",
      "Dia 4: 0.0150\n",
      "Dia 5: 0.0050\n",
      "Dia 6: 0.0100\n",
      "\n",
      "Desvio Padrão Móvel:\n",
      "Dia 3: 0.0148\n",
      "Dia 4: 0.0150\n",
      "Dia 5: 0.0206\n",
      "Dia 6: 0.0187\n"
     ]
    }
   ],
   "source": [
    "# Exemplo de uso das funções sma e rolling_std\n",
    "\n",
    "returns = np.array([0.01, 0.02, -0.01, 0.03, 0.02, -0.02, 0.01])\n",
    "window = 4\n",
    "\n",
    "sma_result = sma(returns, window)\n",
    "rolling_std_result = rolling_std(returns, window)\n",
    "\n",
    "print(\"\\nSMA (Média Móvel Simples):\")\n",
    "for i, sma_value in enumerate(sma_result):\n",
    "    print(f\"Dia {i + window - 1}: {sma_value:.4f}\")\n",
    "print(\"\\nDesvio Padrão Móvel:\")\n",
    "for i, std_value in enumerate(rolling_std_result):\n",
    "    print(f\"Dia {i + window - 1}: {std_value:.4f}\")"
   ]
  }
 ],
 "metadata": {
  "kernelspec": {
   "display_name": "fgv_intro_prog_cd",
   "language": "python",
   "name": "python3"
  },
  "language_info": {
   "codemirror_mode": {
    "name": "ipython",
    "version": 3
   },
   "file_extension": ".py",
   "mimetype": "text/x-python",
   "name": "python",
   "nbconvert_exporter": "python",
   "pygments_lexer": "ipython3",
   "version": "3.11.11"
  }
 },
 "nbformat": 4,
 "nbformat_minor": 5
}
