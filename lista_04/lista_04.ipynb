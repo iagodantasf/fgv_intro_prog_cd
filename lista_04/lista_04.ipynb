{
 "cells": [
  {
   "cell_type": "markdown",
   "id": "6b24779b",
   "metadata": {},
   "source": [
    "# Lista 4 de Introdução à Programação e Ciência de Dados\n",
    "\n",
    "Professor: Rafael de Pinho\n",
    "\n",
    "Monitor: Sillas Rocha\n",
    "\n",
    "Aluno: Iago Dantas Figueirêdo"
   ]
  },
  {
   "cell_type": "markdown",
   "id": "f3c0c8b6",
   "metadata": {},
   "source": [
    "## Instruções Gerais\n",
    "- Cada exercício deve ser implementado em um módulo separado, com funções reutilizáveis.\n",
    "- Documente todas as funções com docstrings no estilo PEP 257 e use type hints.\n",
    "- Utilize apenas as bibliotecas padrão do Python e o NumPy. Bibliotecas como ```pandas```, ```scipy``` e similares não são permitidas."
   ]
  },
  {
   "cell_type": "code",
   "execution_count": 1,
   "id": "cfdf5a08",
   "metadata": {},
   "outputs": [],
   "source": [
    "%load_ext autoreload\n",
    "%autoreload 2"
   ]
  },
  {
   "cell_type": "code",
   "execution_count": 2,
   "id": "9c38aa54",
   "metadata": {},
   "outputs": [],
   "source": [
    "import numpy as np\n",
    "from threading_basics import (\n",
    "    simular_traders,\n",
    "    simular_feeds_de_dados,\n",
    ")\n",
    "from sync_locks import (\n",
    "    gerenciar_risco,\n",
    "    monitorar_acoes,\n",
    ")\n",
    "from advanced_concurrency import (\n",
    "    calcular_medias_moveis,\n",
    "    calcular_volatilidade,\n",
    ")"
   ]
  },
  {
   "cell_type": "markdown",
   "id": "83c2cf03",
   "metadata": {},
   "source": [
    "## Parte 1: Introdução ao Multithreading\n",
    "Esta parte foca nos conceitos básicos de multithreading, demonstrando como criar e gerenciar threads em cenários financeiros simples. Implemente os exercícios no módulo ```threading_basics.py```."
   ]
  },
  {
   "cell_type": "markdown",
   "id": "85387348",
   "metadata": {},
   "source": [
    "### 1. Simulação de Traders Colocando Ordens Concorrentemente\n",
    "\n",
    "**Função**: ```simular_traders(num_traders: int, num_ordens: int) -> Dict[str, List[Dict[str, Any]]]```\n",
    "\n",
    "**Descrição**: Implemente uma simulação onde múltiplas threads (traders) inserem ordens de compra ou venda em uma estrutura compartilhada chamada ```order_book```, que consiste em dois dicionários: um para compras e um para vendas. Cada ordem deve conter um ID único, um preço e uma quantidade. Utilize ```threading.Lock``` para garantir que o acesso a ```order_book``` seja seguro e atômico. Após todas as threads finalizarem, retorne o estado final da estrutura ```order_book```.\n",
    "\n",
    "**Parâmetros**:\n",
    "- ```num_traders```: Número de threads (traders) a serem criadas.\n",
    "- ```num_ordens```: Número de ordens que cada trader deve colocar.\n",
    "\n",
    "**Retorno**: O estado final da estrutura ```order_book```, que é um dicionário com chaves 'buy' e 'sell', cada uma contendo uma lista de ordens (cada ordem é um dicionário com 'id', 'price' e 'quantity')."
   ]
  },
  {
   "cell_type": "code",
   "execution_count": 3,
   "id": "7d23b21a",
   "metadata": {},
   "outputs": [
    {
     "name": "stdout",
     "output_type": "stream",
     "text": [
      "Livro de Ordens:\n",
      "  Buy:\n",
      "    trader_1_ordem_2: 84.39 (1000)\n",
      "    trader_1_ordem_3: 96.11 (100)\n",
      "    trader_2_ordem_1: 83.09 (600)\n",
      "    trader_2_ordem_3: 96.87 (1000)\n",
      "    trader_2_ordem_4: 96.06 (800)\n",
      "  Sell:\n",
      "    trader_0_ordem_1: 100.6 (500)\n",
      "    trader_0_ordem_2: 104.54 (200)\n",
      "    trader_0_ordem_3: 111.85 (100)\n",
      "    trader_0_ordem_4: 101.96 (400)\n",
      "    trader_1_ordem_1: 111.27 (900)\n",
      "    trader_1_ordem_4: 113.99 (600)\n",
      "    trader_2_ordem_2: 101.95 (200)\n"
     ]
    }
   ],
   "source": [
    "# Exemplo de uso da função simular_traders\n",
    "\n",
    "num_traders = 3\n",
    "num_orders = 4\n",
    "\n",
    "order_book = simular_traders(num_traders, num_orders)\n",
    "\n",
    "print(\"Livro de Ordens:\")\n",
    "for key in [\"buy\", \"sell\"]:\n",
    "    print(f\"  {key.capitalize()}:\")\n",
    "    for order in order_book[key]:\n",
    "        print(f\"    {order['id']}: {order['price']} ({order['quantity']})\")"
   ]
  },
  {
   "cell_type": "markdown",
   "id": "26e0dbbc",
   "metadata": {},
   "source": [
    "### 2. Simulação de Feeds de Dados Concorrentes\n",
    "\n",
    "**Função**: ```simular_feeds_de_dados(acoes: List[str], tempo_total: int) -> Dict[str, float]```\n",
    "\n",
    "**Descrição**: Crie um dicionário compartilhado ```prices``` que armazena os preços atuais de várias ações. Crie uma thread para cada ação em ```acoes```, representando um feed de dados que atualiza periodicamente (a cada $1-3$ segundos) o preço da sua ação no dicionário. Use um ```threading.Lock``` para sincronizar o acesso ao dicionário. Crie uma thread adicional que imprime os preços atuais a cada 5 segundos. A simulação deve rodar por ```tempo_total``` segundos. Retorne o dicionário final de preços após a simulação.\n",
    "\n",
    "**Parâmetros**:\n",
    "- ```acoes```: Lista de nomes de ações (e.g., [\"AAPL\", \"GOOG\", \"TSLA\"]).\n",
    "- ```tempo_total```: Tempo total de simulação em segundos.\n",
    "\n",
    "**Retorno**: O dicionário final de preços após a simulação."
   ]
  },
  {
   "cell_type": "code",
   "execution_count": 4,
   "id": "7addc7e9",
   "metadata": {},
   "outputs": [
    {
     "name": "stdout",
     "output_type": "stream",
     "text": [
      "{'AAPL': 18.06, 'GOOG': 7.11, 'TSLA': 10.83}\n",
      "{'AAPL': 18.19, 'GOOG': 7.8, 'TSLA': 11.22}\n",
      "{'AAPL': 16.8, 'GOOG': 7.8, 'TSLA': 11.44}\n"
     ]
    }
   ],
   "source": [
    "# Exemplo de uso da função simular_feeds_de_dados\n",
    "\n",
    "acoes = [\"AAPL\", \"GOOG\", \"TSLA\"]\n",
    "tempo_total = 12  # segundos\n",
    "\n",
    "feed_de_dados = simular_feeds_de_dados(acoes, tempo_total)"
   ]
  },
  {
   "cell_type": "markdown",
   "id": "ff4d6a98",
   "metadata": {},
   "source": [
    "## Parte 2: Sincronização com Locks\n",
    "\n",
    "Esta parte aborda a importância da sincronização em cenários onde múltiplas threads acessam recursos compartilhados. Implemente os exercícios no módulo ```sync_locks.py```."
   ]
  },
  {
   "cell_type": "markdown",
   "id": "7f110a8c",
   "metadata": {},
   "source": [
    "### 3. Gerenciamento de Risco Concorrente\n",
    "\n",
    "**Função**: ```gerenciar_risco(total_risco: float, estrategias: List[Tuple[str, float]], tempo_total: int) -> Dict[str, float]```\n",
    "\n",
    "**Descrição**: Suponha que há um limite total de risco ```total_risco``` para um portfólio. Cada estratégia em ```estrategias``` roda em uma thread separada e tenta alocar uma quantidade de risco. Cada thread verifica o risco total atual e, se houver espaço, aloca seu risco. Use um ```threading.Lock``` para proteger a variável de risco total. Se o risco total excederia o limite, a thread espera (usando ```time.sleep```). A simulação roda por ```tempo_total``` segundos. Retorne um dicionário com o risco alocado por cada estratégia ao final.\n",
    "\n",
    "**Parâmetros**:\n",
    "- ```total_risco```: Limite total de risco disponível.\n",
    "- ```estrategias``: Lista de tuplas, onde cada tupla contém o nome da estratégia e o risco que ela deseja alocar.\n",
    "- ```tempo_total```: Tempo total de simulação em segundos.\n",
    "\n",
    "**Retorno**: Um dicionário com o risco alocado por cada estratégia."
   ]
  },
  {
   "cell_type": "code",
   "execution_count": 5,
   "id": "b10bfca5",
   "metadata": {},
   "outputs": [
    {
     "name": "stdout",
     "output_type": "stream",
     "text": [
      "\n",
      "Alocação de Risco:\n",
      "  e1: 0.05\n",
      "  e2: 0.12\n",
      "  e3: 0.12\n"
     ]
    }
   ],
   "source": [
    "# Exemplo de uso da função gerenciar_risco\n",
    "\n",
    "total_risco = 0.30\n",
    "estrategias = [\n",
    "    (\"e1\", 0.02),\n",
    "    (\"e2\", 0.05),\n",
    "    (\"e3\", 0.03),\n",
    "    (\"e1\", 0.03),\n",
    "    (\"e2\", 0.07),\n",
    "    (\"e3\", 0.09),\n",
    "    (\"e1\", 0.07),\n",
    "    (\"e2\", 0.11),\n",
    "    (\"e3\", 0.08),\n",
    "]\n",
    "tempo_total = 9  # segundos\n",
    "\n",
    "risco_alocado = gerenciar_risco(total_risco, estrategias, tempo_total)\n",
    "\n",
    "print(\"\\nAlocação de Risco:\")\n",
    "for estrategia, risco in risco_alocado.items():\n",
    "    print(f\"  {estrategia}: {risco:.2f}\")"
   ]
  },
  {
   "cell_type": "markdown",
   "id": "7a610285",
   "metadata": {},
   "source": [
    "### 4. Monitoramento Concorrente de Ações\n",
    "\n",
    "**Função**: ```monitorar_acoes(acoes: List[str], valor_alvo: float) -> List[str]```\n",
    "\n",
    "**Descrição**: Simule o monitoramento concorrente de ações utilizando múltiplas threads. Cada thread é responsável por monitorar uma ação específica da lista ```acoes```. Para simular a variação do preço, gere dois preços para cada ação: um valor anterior e um valor atual, ambos obtidos com um pequeno atraso aleatório (para simular chamadas de rede). A thread deve verificar se o ```valor_alvo``` está entre o valor anterior e o valor atual da ação (inclusive as extremidades). Se estiver, significa que o valor-alvo foi \"atingido\" ou ultrapassado naquele intervalo de tempo. Todas as ações que atingirem o valor-alvo devem ser adicionadas a uma lista compartilhada. Utilize ```threading.Lock``` para garantir que a lista compartilhada seja acessada de forma segura.\n",
    "\n",
    "**Parâmetros**:\n",
    "- ```acoes```: Lista de nomes de ações.\n",
    "- ```valor_alvo```: Valor a ser monitorado nas oscilações de preço das ações.\n",
    "\n",
    "**Retorno**: Lista com os nomes das ações cujo preço atingiu ou ultrapassou o valor_alvo entre o valor anterior e o valor atual."
   ]
  },
  {
   "cell_type": "code",
   "execution_count": 6,
   "id": "927f4ab0",
   "metadata": {},
   "outputs": [
    {
     "name": "stdout",
     "output_type": "stream",
     "text": [
      "Ação VALE3 não atingiu o valor alvo: 100.0 (Anterior: 100.78, Atual: 102.29)\n",
      "Ação ITUB4 não atingiu o valor alvo: 100.0 (Anterior: 99.84, Atual: 94.92)\n",
      "Ação PETR4 atingiu o valor alvo: 100.0 (Anterior: 99.05, Atual: 102.08)\n",
      "Ação CASH3 não atingiu o valor alvo: 100.0 (Anterior: 100.09, Atual: 102.07)\n",
      "Ação MGLU3 não atingiu o valor alvo: 100.0 (Anterior: 99.44, Atual: 97.85)\n",
      "Ação ABEV3 atingiu o valor alvo: 100.0 (Anterior: 100.18, Atual: 96.73)\n",
      "Ações:\n",
      "['PETR4', 'ABEV3']\n"
     ]
    }
   ],
   "source": [
    "# Exemplo de uso da função monitorar_acoes\n",
    "\n",
    "acoes = [\"PETR4\", \"VALE3\", \"MGLU3\", \"ITUB4\", \"ABEV3\", \"CASH3\"]\n",
    "valor_alvo = 100.0\n",
    "\n",
    "resultado = monitorar_acoes(acoes, valor_alvo)\n",
    "\n",
    "print(\"Ações:\")\n",
    "print(resultado)"
   ]
  },
  {
   "cell_type": "markdown",
   "id": "986a6e5d",
   "metadata": {},
   "source": [
    "## Parte 3: Paralelismo e Concorrência Avançada\n",
    "Implemente os exercícios no módulo advanced_concurrency.py."
   ]
  },
  {
   "cell_type": "markdown",
   "id": "cb248d85",
   "metadata": {},
   "source": [
    "### 5. Processamento Paralelo de Dados de Múltiplas Ações\n",
    "\n",
    "**Função**: ```calcularmedias_moveis(acoes: Dict[str, np.ndarray], janela: int) -> Dict[str, np.ndarray]````\n",
    "\n",
    "**Descrição**: Dado um dicionário ```acoes``` com preços de várias ações, cada thread calcula a média móvel de ```janela``` dias para uma ação diferente. Use múltiplas threads para processar as ações concorrentemente. Colete os resultados em um dicionário.\n",
    "\n",
    "**Parâmetros**:\n",
    "- ```acoes```: Dicionário onde as chaves são nomes de ações e os valores são arrays de preços.\n",
    "- ```janela```: Tamanho da janela para a média móvel.\n",
    "\n",
    "**Retorno**: Um dicionário com as médias móveis calculadas para cada ação."
   ]
  },
  {
   "cell_type": "code",
   "execution_count": 7,
   "id": "0e7c53b2",
   "metadata": {},
   "outputs": [
    {
     "name": "stdout",
     "output_type": "stream",
     "text": [
      "PETR4: [11. 12. 13. 14.]\n",
      "VALE3: [21. 22. 23. 24.]\n",
      "ITUB4: [29. 28. 27. 26.]\n"
     ]
    }
   ],
   "source": [
    "# Exemplo de uso da função calcular_medias_moveis\n",
    "\n",
    "acoes = {\n",
    "    \"PETR4\": np.array([10, 11, 12, 13, 14, 15]),\n",
    "    \"VALE3\": np.array([20, 21, 22, 23, 24, 25]),\n",
    "    \"ITUB4\": np.array([30, 29, 28, 27, 26, 25])\n",
    "}\n",
    "janela = 3\n",
    "\n",
    "resultado = calcular_medias_moveis(acoes, janela=3)\n",
    "\n",
    "for nome, media in resultado.items():\n",
    "    print(f\"{nome}: {media}\")"
   ]
  },
  {
   "cell_type": "markdown",
   "id": "58190318",
   "metadata": {},
   "source": [
    "### 6. Simulação de Cálculo de Volatilidade Concorrente\n",
    "\n",
    "**Função**: ```calcular_volatilidade(retornos: np.ndarray, janela: int, num_threads: int) -> np.ndarray````\n",
    "\n",
    "**Descrição**: Dado um array de retornos diários ```retornos```, calcule a volatilidade (desvio padrão) sobre janelas móveis de ```janela``` dias. Divida o array em ```num_threads``` partes e use uma thread para cada parte. Colete e combine os resultados.\n",
    "\n",
    "**Parâmetros**:\n",
    "- ```retornos```: Array de retornos diários.\n",
    "- ```janela```: Tamanho da janela para o cálculo da volatilidade.\n",
    "- ```num_threads```: Número de threads a serem usadas.\n",
    "\n",
    "**Retorno**: Um array com as volatilidades calculadas para cada janela."
   ]
  },
  {
   "cell_type": "code",
   "execution_count": 8,
   "id": "d0575484",
   "metadata": {},
   "outputs": [
    {
     "name": "stdout",
     "output_type": "stream",
     "text": [
      "Volatilidade móvel:\n",
      "  1: 0.0148\n",
      "  2: 0.0150\n",
      "  3: 0.0206\n",
      "  4: 0.0187\n"
     ]
    }
   ],
   "source": [
    "# Exemplo de uso da função calcular_volatilidade\n",
    "\n",
    "retornos = np.array([0.01, 0.02, -0.01, 0.03, 0.02, -0.02, 0.01])\n",
    "janela = 4\n",
    "num_threads = 2\n",
    "\n",
    "rolling_vol = calcular_volatilidade(retornos, janela, num_threads)\n",
    "\n",
    "print(\"Volatilidade móvel:\")\n",
    "for i, vol in enumerate(rolling_vol):\n",
    "    print(f\"  {i + 1}: {vol:.4f}\")"
   ]
  }
 ],
 "metadata": {
  "kernelspec": {
   "display_name": "fgv_intro_prog_cd",
   "language": "python",
   "name": "python3"
  },
  "language_info": {
   "codemirror_mode": {
    "name": "ipython",
    "version": 3
   },
   "file_extension": ".py",
   "mimetype": "text/x-python",
   "name": "python",
   "nbconvert_exporter": "python",
   "pygments_lexer": "ipython3",
   "version": "3.11.11"
  }
 },
 "nbformat": 4,
 "nbformat_minor": 5
}
