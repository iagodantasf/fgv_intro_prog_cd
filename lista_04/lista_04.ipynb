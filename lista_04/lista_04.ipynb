{
 "cells": [
  {
   "cell_type": "markdown",
   "id": "6b24779b",
   "metadata": {},
   "source": [
    "# Lista 4 de Introdução à Programação e Ciência de Dados\n",
    "\n",
    "Professor: Rafael de Pinho\n",
    "\n",
    "Monitor: Sillas Rocha\n",
    "\n",
    "Aluno: Iago Dantas Figueirêdo"
   ]
  },
  {
   "cell_type": "markdown",
   "id": "f3c0c8b6",
   "metadata": {},
   "source": [
    "## Instruções Gerais\n",
    "- Cada exercício deve ser implementado em um módulo separado, com funções reutilizáveis.\n",
    "- Documente todas as funções com docstrings no estilo PEP 257 e use type hints.\n",
    "- Utilize apenas as bibliotecas padrão do Python e o NumPy. Bibliotecas como ```pandas```, ```scipy``` e similares não são permitidas."
   ]
  },
  {
   "cell_type": "code",
   "execution_count": 1,
   "id": "cfdf5a08",
   "metadata": {},
   "outputs": [],
   "source": [
    "%load_ext autoreload\n",
    "%autoreload 2"
   ]
  },
  {
   "cell_type": "code",
   "execution_count": 2,
   "id": "9c38aa54",
   "metadata": {},
   "outputs": [],
   "source": [
    "from threading_basics import (\n",
    "    simular_traders,\n",
    "    simular_feeds_de_dados,\n",
    ")"
   ]
  },
  {
   "cell_type": "markdown",
   "id": "83c2cf03",
   "metadata": {},
   "source": [
    "## Parte 1: Introdução ao Multithreading\n",
    "Esta parte foca nos conceitos básicos de multithreading, demonstrando como criar e gerenciar threads em cenários financeiros simples. Implemente os exercícios no módulo ```threading_basics.py```."
   ]
  },
  {
   "cell_type": "markdown",
   "id": "85387348",
   "metadata": {},
   "source": [
    "### 1. Simulação de Traders Colocando Ordens Concorrentemente\n",
    "\n",
    "**Função**: ```simular_traders(num_traders: int, num_ordens: int) -> Dict[str, List[Dict[str, Any]]]```\n",
    "\n",
    "**Descrição**: Implemente uma simulação onde múltiplas threads (traders) inserem ordens de compra ou venda em uma estrutura compartilhada chamada ```order_book```, que consiste em dois dicionários: um para compras e um para vendas. Cada ordem deve conter um ID único, um preço e uma quantidade. Utilize ```threading.Lock``` para garantir que o acesso a ```order_book``` seja seguro e atômico. Após todas as threads finalizarem, retorne o estado final da estrutura ```order_book```.\n",
    "\n",
    "**Parâmetros**:\n",
    "- ```num_traders```: Número de threads (traders) a serem criadas.\n",
    "- ```num_ordens```: Número de ordens que cada trader deve colocar.\n",
    "\n",
    "**Retorno**: O estado final da estrutura ```order_book```, que é um dicionário com chaves 'buy' e 'sell', cada uma contendo uma lista de ordens (cada ordem é um dicionário com 'id', 'price' e 'quantity')."
   ]
  },
  {
   "cell_type": "code",
   "execution_count": 3,
   "id": "7d23b21a",
   "metadata": {},
   "outputs": [
    {
     "name": "stdout",
     "output_type": "stream",
     "text": [
      "Livro de Ordens:\n",
      "  Buy:\n",
      "    trader_1_ordem_2: 84.39 (1000)\n",
      "    trader_1_ordem_3: 96.11 (100)\n",
      "    trader_2_ordem_1: 83.09 (600)\n",
      "    trader_2_ordem_3: 96.87 (1000)\n",
      "    trader_2_ordem_4: 96.06 (800)\n",
      "  Sell:\n",
      "    trader_0_ordem_1: 100.6 (500)\n",
      "    trader_0_ordem_2: 104.54 (200)\n",
      "    trader_0_ordem_3: 111.85 (100)\n",
      "    trader_0_ordem_4: 101.96 (400)\n",
      "    trader_1_ordem_1: 111.27 (900)\n",
      "    trader_1_ordem_4: 113.99 (600)\n",
      "    trader_2_ordem_2: 101.95 (200)\n"
     ]
    }
   ],
   "source": [
    "# Exemplo de uso da função simular_traders\n",
    "\n",
    "num_traders = 3\n",
    "num_orders = 4\n",
    "\n",
    "order_book = simular_traders(num_traders, num_orders)\n",
    "\n",
    "print(\"Livro de Ordens:\")\n",
    "for key in [\"buy\", \"sell\"]:\n",
    "    print(f\"  {key.capitalize()}:\")\n",
    "    for order in order_book[key]:\n",
    "        print(f\"    {order['id']}: {order['price']} ({order['quantity']})\")"
   ]
  },
  {
   "cell_type": "markdown",
   "id": "26e0dbbc",
   "metadata": {},
   "source": [
    "### 2. Simulação de Feeds de Dados Concorrentes\n",
    "\n",
    "**Função**: ```simular_feeds_de_dados(acoes: List[str], tempo_total: int) -> Dict[str, float]```\n",
    "\n",
    "**Descrição**: Crie um dicionário compartilhado ```prices``` que armazena os preços atuais de várias ações. Crie uma thread para cada ação em ```acoes```, representando um feed de dados que atualiza periodicamente (a cada $1-3$ segundos) o preço da sua ação no dicionário. Use um ```threading.Lock``` para sincronizar o acesso ao dicionário. Crie uma thread adicional que imprime os preços atuais a cada 5 segundos. A simulação deve rodar por ```tempo_total``` segundos. Retorne o dicionário final de preços após a simulação.\n",
    "\n",
    "**Parâmetros**:\n",
    "- ```acoes```: Lista de nomes de ações (e.g., [\"AAPL\", \"GOOG\", \"TSLA\"]).\n",
    "- ```tempo_total```: Tempo total de simulação em segundos.\n",
    "\n",
    "**Retorno**: O dicionário final de preços após a simulação."
   ]
  },
  {
   "cell_type": "code",
   "execution_count": 4,
   "id": "7addc7e9",
   "metadata": {},
   "outputs": [
    {
     "name": "stdout",
     "output_type": "stream",
     "text": [
      "{'AAPL': 18.06, 'GOOG': 7.11, 'TSLA': 10.83}\n",
      "{'AAPL': 18.75, 'GOOG': 7.24, 'TSLA': 11.22}\n",
      "{'AAPL': 17.36, 'GOOG': 7.24, 'TSLA': 11.44}\n"
     ]
    }
   ],
   "source": [
    "# Exemplo de uso da função simular_feeds_de_dados\n",
    "\n",
    "acoes = [\"AAPL\", \"GOOG\", \"TSLA\"]\n",
    "tempo_total = 12  # segundos\n",
    "\n",
    "feed_de_dados = simular_feeds_de_dados(acoes, tempo_total)"
   ]
  },
  {
   "cell_type": "code",
   "execution_count": null,
   "id": "7f110a8c",
   "metadata": {},
   "outputs": [],
   "source": []
  }
 ],
 "metadata": {
  "kernelspec": {
   "display_name": "fgv_intro_prog_cd",
   "language": "python",
   "name": "python3"
  },
  "language_info": {
   "codemirror_mode": {
    "name": "ipython",
    "version": 3
   },
   "file_extension": ".py",
   "mimetype": "text/x-python",
   "name": "python",
   "nbconvert_exporter": "python",
   "pygments_lexer": "ipython3",
   "version": "3.11.11"
  }
 },
 "nbformat": 4,
 "nbformat_minor": 5
}
