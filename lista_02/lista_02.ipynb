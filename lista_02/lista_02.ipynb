{
 "cells": [
  {
   "cell_type": "markdown",
   "id": "d2202a68",
   "metadata": {},
   "source": [
    "# Lista 2 de Introdução à Programação e Ciência de Dados\n",
    "\n",
    "Professor: Rafael de Pinho\n",
    "\n",
    "Monitor: Sillas Rocha\n",
    "\n",
    "Aluno: Iago Dantas Figueirêdo"
   ]
  },
  {
   "cell_type": "code",
   "execution_count": 1,
   "id": "e39a1d7f",
   "metadata": {},
   "outputs": [],
   "source": [
    "%load_ext autoreload\n",
    "%autoreload 2"
   ]
  },
  {
   "cell_type": "code",
   "execution_count": 2,
   "id": "8ea010d1",
   "metadata": {},
   "outputs": [],
   "source": [
    "from lista_02 import (\n",
    "    future_value,\n",
    "    standard_deviation,\n",
    "    time_to_double,\n",
    "    portfolio_combinations,\n",
    "    moving_average,\n",
    "    simulate_stock_price,\n",
    "    download_and_merge,\n",
    ")"
   ]
  },
  {
   "cell_type": "markdown",
   "id": "651fa521",
   "metadata": {},
   "source": [
    "## Parte 1: Biblioteca ```math```\n",
    "\n",
    "Use apenas funções da biblioteca padrão ```math```. Inclua comentários explicativos."
   ]
  },
  {
   "cell_type": "markdown",
   "id": "a4ac9b5e",
   "metadata": {},
   "source": [
    "### 1. Valor Futuro (Juros Compostos)\n",
    "\n",
    "Defina ```future_value(pv, r, n, t)``` para calcular\n",
    "\n",
    "$$\n",
    "F V=P V \\times\\left(1+\\frac{r}{n}\\right)^{n t}\n",
    "$$\n",
    "\n",
    "- ```pv```: valor presente (float);\n",
    "- ```r```: taxa anual (ex.: 0.05 para 5 %);\n",
    "- ```n```: número de períodos por ano (int);\n",
    "- ```t``` : tempo em anos (float)."
   ]
  },
  {
   "cell_type": "code",
   "execution_count": 3,
   "id": "d93b3410",
   "metadata": {},
   "outputs": [
    {
     "name": "stdout",
     "output_type": "stream",
     "text": [
      "Valor futuro: 1161.47\n"
     ]
    }
   ],
   "source": [
    "# Exemplo de uso da função future_value\n",
    "\n",
    "pv = 1000\n",
    "r = 0.05\n",
    "n = 12\n",
    "t = 3\n",
    "\n",
    "fv = future_value(pv, r, n, t)\n",
    "\n",
    "print(f\"Valor futuro: {fv:.2f}\")"
   ]
  },
  {
   "cell_type": "markdown",
   "id": "cc035a04",
   "metadata": {},
   "source": [
    "### 2. Desvio Padrão de Retornos\n",
    "\n",
    "Defina ```standard_deviation(returns)``` que:\n",
    "\n",
    "$$\n",
    "\\sigma=\\sqrt{\\frac{1}{N} \\sum_{i=1}^N\\left(x_i-\\bar{x}\\right)^2},\n",
    "$$\n",
    "\n",
    "onde $N$ é o número de retornos e $\\bar{x}$ a média dos valores em ```returns```."
   ]
  },
  {
   "cell_type": "code",
   "execution_count": 4,
   "id": "218eda63",
   "metadata": {},
   "outputs": [
    {
     "name": "stdout",
     "output_type": "stream",
     "text": [
      "Desvio padrão: 0.0301\n"
     ]
    }
   ],
   "source": [
    "# Exemplo de uso da função standard_deviation\n",
    "\n",
    "returns = [0.05, 0.07, -0.02, 0.03, 0.04]\n",
    "\n",
    "std_dev = standard_deviation(returns)\n",
    "\n",
    "print(f\"Desvio padrão: {std_dev:.4f}\")"
   ]
  },
  {
   "cell_type": "markdown",
   "id": "88489024",
   "metadata": {},
   "source": [
    "### 3. Tempo para Dobrar (Capitalização Contínua)\n",
    "\n",
    "Defina ```time_to_double(r)``` usando\n",
    "\n",
    "$$\n",
    "t=\\frac{\\ln (2)}{\\ln (1+r)}\n",
    "$$\n",
    "\n",
    "retornando o número de anos para que o investimento dobre."
   ]
  },
  {
   "cell_type": "code",
   "execution_count": 5,
   "id": "ebbe847a",
   "metadata": {},
   "outputs": [
    {
     "name": "stdout",
     "output_type": "stream",
     "text": [
      "Tempo para dobrar o investimento: 10.24 anos\n"
     ]
    }
   ],
   "source": [
    "# Exemplo de uso da função time_to_double\n",
    "\n",
    "r = 0.07\n",
    "\n",
    "time_ = time_to_double(r)\n",
    "\n",
    "print(f\"Tempo para dobrar o investimento: {time_:.2f} anos\")"
   ]
  },
  {
   "cell_type": "markdown",
   "id": "7cd96e18",
   "metadata": {},
   "source": [
    "## Parte 2: Biblioteca itertools\n",
    "\n",
    "Use apenas funções de ```itertools```; não faça loops manuais para combinações ou janelas."
   ]
  },
  {
   "cell_type": "markdown",
   "id": "eff80ea5",
   "metadata": {},
   "source": [
    "### 1. Combinações de Ativos\n",
    "\n",
    "Defina ```portfolio_combinations(assets, k)``` que receba:\n",
    "- ```assets```: lista de strings (tickers);\n",
    "- ```k```: tamanho de cada combinação (int);\n",
    "\n",
    "e retorne todas as combinações de tamanho $k$."
   ]
  },
  {
   "cell_type": "code",
   "execution_count": 6,
   "id": "0dfbacc2",
   "metadata": {},
   "outputs": [
    {
     "name": "stdout",
     "output_type": "stream",
     "text": [
      "Combinações de portfólio de tamanho 2:\n",
      "('Ação A', 'Ação B')\n",
      "('Ação A', 'Ação C')\n",
      "('Ação A', 'Ação D')\n",
      "('Ação B', 'Ação C')\n",
      "('Ação B', 'Ação D')\n",
      "('Ação C', 'Ação D')\n"
     ]
    }
   ],
   "source": [
    "# Exemplo de uso da função portfolio_combinations\n",
    "\n",
    "assets = [\"Ação A\", \"Ação B\", \"Ação C\", \"Ação D\"]\n",
    "k = 2\n",
    "\n",
    "combinations = portfolio_combinations(assets, k)\n",
    "\n",
    "print(f\"Combinações de portfólio de tamanho {k}:\")\n",
    "for combo in combinations:\n",
    "    print(combo)"
   ]
  },
  {
   "cell_type": "markdown",
   "id": "4fc316c7",
   "metadata": {},
   "source": [
    "### 2. Média Móvel\n",
    "\n",
    "Defina ```moving_average(prices, window)``` que receba:\n",
    "- ```prices```: lista de floats;\n",
    "- ```window```: tamanho da janela (int);\n",
    "\n",
    "e retorne uma lista de médias para cada janela deslizante de comprimento window. Exemplo: prices $=[100,102,101,103]$, window $=3 \\rightarrow[101,102]$."
   ]
  },
  {
   "cell_type": "code",
   "execution_count": 7,
   "id": "865ab8cd",
   "metadata": {},
   "outputs": [
    {
     "name": "stdout",
     "output_type": "stream",
     "text": [
      "Média móvel de 3 períodos:\n",
      "[101.0, 102.0]\n"
     ]
    }
   ],
   "source": [
    "# Exemplo de uso da função moving_average\n",
    "\n",
    "prices = [100, 102, 101, 103]\n",
    "window = 3\n",
    "\n",
    "ma = moving_average(prices, window)\n",
    "\n",
    "print(f\"Média móvel de {window} períodos:\")\n",
    "print(ma)"
   ]
  },
  {
   "cell_type": "markdown",
   "id": "fe58d151",
   "metadata": {},
   "source": [
    "## Parte 3: Biblioteca ```random```"
   ]
  },
  {
   "cell_type": "markdown",
   "id": "c6bb0bd6",
   "metadata": {},
   "source": [
    "### 1. Simulação de Preço de Ação\n",
    "\n",
    "Crie uma função ```simulate_stock_price(initial_price, mu, sigma, days)``` que simule o preço de uma ação por ```days``` dias, usando ```random.gauss``` para gerar variações diárias normais com média ```mu``` e desvio padrão ```sigma```. O preço em cada dia é o preço anterior mais a variação, tente com uma variação de média 0 e desvio padrão 1."
   ]
  },
  {
   "cell_type": "code",
   "execution_count": 8,
   "id": "3934fce2",
   "metadata": {},
   "outputs": [
    {
     "name": "stdout",
     "output_type": "stream",
     "text": [
      "Preços simulados para 21 dias:\n",
      "Dia 0: 100.00\n",
      "Dia 1: 100.94\n",
      "Dia 2: 99.55\n",
      "Dia 3: 98.87\n",
      "Dia 4: 99.24\n",
      "Dia 5: 98.22\n",
      "Dia 6: 98.15\n",
      "Dia 7: 98.33\n",
      "Dia 8: 97.50\n",
      "Dia 9: 96.19\n",
      "Dia 10: 96.38\n",
      "Dia 11: 97.37\n",
      "Dia 12: 96.73\n",
      "Dia 13: 96.39\n",
      "Dia 14: 98.04\n",
      "Dia 15: 97.48\n",
      "Dia 16: 96.97\n",
      "Dia 17: 99.37\n",
      "Dia 18: 97.84\n",
      "Dia 19: 98.64\n",
      "Dia 20: 96.63\n",
      "Dia 21: 96.03\n"
     ]
    }
   ],
   "source": [
    "# Exemplo de uso da função simulate_stock_price\n",
    "\n",
    "initial_price = 100\n",
    "mu = 0\n",
    "sigma = 1\n",
    "days = 21\n",
    "\n",
    "simulated_prices = simulate_stock_price(initial_price, mu, sigma, days)\n",
    "\n",
    "print(\"Preços simulados para 21 dias:\")\n",
    "for day, price in enumerate(simulated_prices):\n",
    "    print(f\"Dia {day}: {price:.2f}\")"
   ]
  },
  {
   "cell_type": "markdown",
   "id": "e4de76d9",
   "metadata": {},
   "source": [
    "## Parte 4: Bibliotecas ```urllib``` e ```os```"
   ]
  },
  {
   "cell_type": "markdown",
   "id": "d9f1fb13",
   "metadata": {},
   "source": [
    "### 1. Download e Concatenação de Dados do BLS QCEW\n",
    "\n",
    "Escreva uma função ```download_and_merge(years_quarters, output_file)``` que deverá baixar dados do BLS QCEW (Quarterly Census of Employment and Wages), que fornece dados de emprego e salários nos Estados Unidos, para diferentes trimestres e anos e, em seguida, concatená-los em um único arquivo CSV. Para isso:\n",
    "\n",
    "1. Receba como parâmetros:\n",
    "    - ```years_quarters```: lista de tuplas, cada uma representando um ano e trimestre (ex.: ```[(2024, 1), (2024, 2), (2024, 3), (2024, 4)]```);\n",
    "    - ```output_file```: caminho do arquivo CSV de saída com todos os dados concatenados.\n",
    "2. Crie o diretório data/ se ele não existir.\n",
    "3. Para cada tupla ```(year, quarter)``` em ```years_quarters```:\n",
    "    - Monte a URL de download: ```https://data.bls.gov/cew/data/api/\\{year\\}/\\{quarter\\}/industry/10.csv```\n",
    "    - Use ```urllib.request.urlretrieve``` para baixar os dados e salve-os em ```data/\\{year\\}_q\\{quarter\\}.csv```.\n",
    "4. Após baixar todos os arquivos:\n",
    "    - Liste todos os arquivos *.csv em data/, ordene-os pelo nome.\n",
    "    - Abra cada arquivo e escreva o cabeçalho do primeiro arquivo em output_file.\n",
    "    - Escreva todas as linhas de dados (sem cabeçalho) de cada arquivo em output_file.\n",
    "\n",
    "Abra a URL resultante e observe o formato dos dados para o ano de 2024 e o primeiro trimestre: https://data.bls.gov/cew/data/api/2024/1/industry/10.csv\n",
    "\n",
    "Observações:\n",
    "-  Use ```urllib.request.urlretrieve``` para baixar os dados das url's para os arquivos com os seus devidos caminhos.\n",
    "- Certifique-se de que o cabeçalho seja incluído apenas uma vez no arquivo final.\n",
    "- Use ```os.path.exists``` e ```os.makedirs``` para gerenciar o diretório.\n",
    "- Cada arquivo CSV do BLS QCEW tem a mesma estrutura, facilitando a concatenação."
   ]
  },
  {
   "cell_type": "code",
   "execution_count": 9,
   "id": "53600b71",
   "metadata": {},
   "outputs": [
    {
     "name": "stderr",
     "output_type": "stream",
     "text": [
      "Baixando os arquivos do BLS QCEW: 100%|██████████| 4/4 [00:34<00:00,  8.73s/it]"
     ]
    },
    {
     "name": "stdout",
     "output_type": "stream",
     "text": [
      "Arquivos baixados:\n",
      "data/2024_q1.csv\n",
      "data/2024_q2.csv\n",
      "data/2024_q3.csv\n",
      "data/2024_q4.csv\n",
      "Dados baixados e mesclados no arquivo: 4_1_output_file_example.csv\n"
     ]
    },
    {
     "name": "stderr",
     "output_type": "stream",
     "text": [
      "\n"
     ]
    }
   ],
   "source": [
    "# Exemplo de uso da função download_and_merge\n",
    "\n",
    "years_quarters = [(2024, 1), (2024, 2), (2024, 3), (2024, 4)]\n",
    "output_file = \"4_1_output_file_example.csv\"\n",
    "\n",
    "download_and_merge(years_quarters, output_file)\n",
    "print(f\"Dados baixados e mesclados no arquivo: {output_file}\")"
   ]
  }
 ],
 "metadata": {
  "kernelspec": {
   "display_name": "fgv_intro_prog_cd",
   "language": "python",
   "name": "python3"
  },
  "language_info": {
   "codemirror_mode": {
    "name": "ipython",
    "version": 3
   },
   "file_extension": ".py",
   "mimetype": "text/x-python",
   "name": "python",
   "nbconvert_exporter": "python",
   "pygments_lexer": "ipython3",
   "version": "3.11.11"
  }
 },
 "nbformat": 4,
 "nbformat_minor": 5
}
