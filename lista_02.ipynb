{
 "cells": [
  {
   "cell_type": "markdown",
   "id": "d2202a68",
   "metadata": {},
   "source": [
    "# Lista 2 de Introdução à Programação e Ciência de Dados\n",
    "\n",
    "Professor: Rafael de Pinho\n",
    "\n",
    "Monitor: Sillas Rocha\n",
    "\n",
    "Aluno: Iago Dantas Figueirêdo"
   ]
  },
  {
   "cell_type": "code",
   "execution_count": 1,
   "id": "e39a1d7f",
   "metadata": {},
   "outputs": [],
   "source": [
    "%load_ext autoreload\n",
    "%autoreload 2"
   ]
  },
  {
   "cell_type": "code",
   "execution_count": 27,
   "id": "8ea010d1",
   "metadata": {},
   "outputs": [],
   "source": [
    "from lista_02 import (\n",
    "    future_value,\n",
    "    standard_deviation,\n",
    "    time_to_double,\n",
    "    portfolio_combinations,\n",
    "    moving_average,\n",
    "    simulate_stock_price,\n",
    ")"
   ]
  },
  {
   "cell_type": "markdown",
   "id": "651fa521",
   "metadata": {},
   "source": [
    "## Parte 1: Biblioteca ```math```\n",
    "\n",
    "Use apenas funções da biblioteca padrão ```math```. Inclua comentários explicativos."
   ]
  },
  {
   "cell_type": "markdown",
   "id": "a4ac9b5e",
   "metadata": {},
   "source": [
    "### 1. Valor Futuro (Juros Compostos)\n",
    "\n",
    "Defina ```future_value(pv, r, n, t)``` para calcular\n",
    "\n",
    "$$\n",
    "F V=P V \\times\\left(1+\\frac{r}{n}\\right)^{n t}\n",
    "$$\n",
    "\n",
    "- ```pv```: valor presente (float);\n",
    "- ```r```: taxa anual (ex.: 0.05 para 5 %);\n",
    "- ```n```: número de períodos por ano (int);\n",
    "- ```t``` : tempo em anos (float)."
   ]
  },
  {
   "cell_type": "code",
   "execution_count": 8,
   "id": "d93b3410",
   "metadata": {},
   "outputs": [
    {
     "name": "stdout",
     "output_type": "stream",
     "text": [
      "Valor futuro: 1161.47\n"
     ]
    }
   ],
   "source": [
    "# Exemplo de uso da função future_value\n",
    "\n",
    "pv = 1000\n",
    "r = 0.05\n",
    "n = 12\n",
    "t = 3\n",
    "\n",
    "fv = future_value(pv, r, n, t)\n",
    "\n",
    "print(f\"Valor futuro: {fv:.2f}\")"
   ]
  },
  {
   "cell_type": "markdown",
   "id": "cc035a04",
   "metadata": {},
   "source": [
    "### 2. Desvio Padrão de Retornos\n",
    "\n",
    "Defina ```standard_deviation(returns)``` que:\n",
    "\n",
    "$$\n",
    "\\sigma=\\sqrt{\\frac{1}{N} \\sum_{i=1}^N\\left(x_i-\\bar{x}\\right)^2},\n",
    "$$\n",
    "\n",
    "onde $N$ é o número de retornos e $\\bar{x}$ a média dos valores em ```returns```."
   ]
  },
  {
   "cell_type": "code",
   "execution_count": 9,
   "id": "218eda63",
   "metadata": {},
   "outputs": [
    {
     "name": "stdout",
     "output_type": "stream",
     "text": [
      "Desvio padrão: 0.0301\n"
     ]
    }
   ],
   "source": [
    "# Exemplo de uso da função standard_deviation\n",
    "\n",
    "returns = [0.05, 0.07, -0.02, 0.03, 0.04]\n",
    "\n",
    "std_dev = standard_deviation(returns)\n",
    "\n",
    "print(f\"Desvio padrão: {std_dev:.4f}\")"
   ]
  },
  {
   "cell_type": "markdown",
   "id": "88489024",
   "metadata": {},
   "source": [
    "### 3. Tempo para Dobrar (Capitalização Contínua)\n",
    "\n",
    "Defina ```time_to_double(r)``` usando\n",
    "\n",
    "$$\n",
    "t=\\frac{\\ln (2)}{\\ln (1+r)}\n",
    "$$\n",
    "\n",
    "retornando o número de anos para que o investimento dobre."
   ]
  },
  {
   "cell_type": "code",
   "execution_count": 10,
   "id": "ebbe847a",
   "metadata": {},
   "outputs": [
    {
     "name": "stdout",
     "output_type": "stream",
     "text": [
      "Tempo para dobrar o investimento: 10.24 anos\n"
     ]
    }
   ],
   "source": [
    "# Exemplo de uso da função time_to_double\n",
    "\n",
    "r = 0.07\n",
    "\n",
    "time_ = time_to_double(r)\n",
    "\n",
    "print(f\"Tempo para dobrar o investimento: {time_:.2f} anos\")"
   ]
  },
  {
   "cell_type": "markdown",
   "id": "7cd96e18",
   "metadata": {},
   "source": [
    "## Parte 2: Biblioteca itertools\n",
    "\n",
    "Use apenas funções de ```itertools```; não faça loops manuais para combinações ou janelas."
   ]
  },
  {
   "cell_type": "markdown",
   "id": "eff80ea5",
   "metadata": {},
   "source": [
    "### 1. Combinações de Ativos\n",
    "\n",
    "Defina ```portfolio_combinations(assets, k)``` que receba:\n",
    "- ```assets```: lista de strings (tickers);\n",
    "- ```k```: tamanho de cada combinação (int);\n",
    "\n",
    "e retorne todas as combinações de tamanho $k$."
   ]
  },
  {
   "cell_type": "code",
   "execution_count": 12,
   "id": "0dfbacc2",
   "metadata": {},
   "outputs": [
    {
     "name": "stdout",
     "output_type": "stream",
     "text": [
      "Combinações de portfólio de tamanho 2:\n",
      "('Ação A', 'Ação B')\n",
      "('Ação A', 'Ação C')\n",
      "('Ação A', 'Ação D')\n",
      "('Ação B', 'Ação C')\n",
      "('Ação B', 'Ação D')\n",
      "('Ação C', 'Ação D')\n"
     ]
    }
   ],
   "source": [
    "# Exemplo de uso da função portfolio_combinations\n",
    "\n",
    "assets = [\"Ação A\", \"Ação B\", \"Ação C\", \"Ação D\"]\n",
    "k = 2\n",
    "\n",
    "combinations = portfolio_combinations(assets, k)\n",
    "\n",
    "print(f\"Combinações de portfólio de tamanho {k}:\")\n",
    "for combo in combinations:\n",
    "    print(combo)"
   ]
  },
  {
   "cell_type": "markdown",
   "id": "4fc316c7",
   "metadata": {},
   "source": [
    "### 2. Média Móvel\n",
    "\n",
    "Defina ```moving_average(prices, window)``` que receba:\n",
    "- ```prices```: lista de floats;\n",
    "- ```window```: tamanho da janela (int);\n",
    "\n",
    "e retorne uma lista de médias para cada janela deslizante de comprimento window. Exemplo: prices $=[100,102,101,103]$, window $=3 \\rightarrow[101,102]$."
   ]
  },
  {
   "cell_type": "code",
   "execution_count": 26,
   "id": "865ab8cd",
   "metadata": {},
   "outputs": [
    {
     "name": "stdout",
     "output_type": "stream",
     "text": [
      "Média móvel de 3 períodos:\n",
      "[101.0, 102.0]\n"
     ]
    }
   ],
   "source": [
    "# Exemplo de uso da função moving_average\n",
    "\n",
    "prices = [100, 102, 101, 103]\n",
    "window = 3\n",
    "\n",
    "ma = moving_average(prices, window)\n",
    "\n",
    "print(f\"Média móvel de {window} períodos:\")\n",
    "print(ma)"
   ]
  },
  {
   "cell_type": "markdown",
   "id": "fe58d151",
   "metadata": {},
   "source": [
    "## Parte 3: Biblioteca ```random```"
   ]
  },
  {
   "cell_type": "markdown",
   "id": "c6bb0bd6",
   "metadata": {},
   "source": [
    "### 1. Simulação de Preço de Ação\n",
    "\n",
    "Crie uma função ```simulate_stock_price(initial_price, mu, sigma, days)``` que simule o preço de uma ação por ```days``` dias, usando ```random.gauss``` para gerar variações diárias normais com média ```mu``` e desvio padrão ```sigma```. O preço em cada dia é o preço anterior mais a variação, tente com uma variação de média 0 e desvio padrão 1."
   ]
  },
  {
   "cell_type": "code",
   "execution_count": 125,
   "id": "3934fce2",
   "metadata": {},
   "outputs": [
    {
     "name": "stdout",
     "output_type": "stream",
     "text": [
      "Preços simulados para 21 dias:\n",
      "Dia 1: 100.00\n",
      "Dia 2: 100.94\n",
      "Dia 3: 99.55\n",
      "Dia 4: 98.87\n",
      "Dia 5: 99.24\n",
      "Dia 6: 98.22\n",
      "Dia 7: 98.15\n",
      "Dia 8: 98.33\n",
      "Dia 9: 97.50\n",
      "Dia 10: 96.19\n",
      "Dia 11: 96.38\n",
      "Dia 12: 97.37\n",
      "Dia 13: 96.73\n",
      "Dia 14: 96.39\n",
      "Dia 15: 98.04\n",
      "Dia 16: 97.48\n",
      "Dia 17: 96.97\n",
      "Dia 18: 99.37\n",
      "Dia 19: 97.84\n",
      "Dia 20: 98.64\n",
      "Dia 21: 96.63\n"
     ]
    }
   ],
   "source": [
    "# Exemplo de uso da função simulate_stock_price\n",
    "\n",
    "initial_price = 100\n",
    "mu = 0\n",
    "sigma = 1\n",
    "days = 21\n",
    "\n",
    "simulated_prices = simulate_stock_price(initial_price, mu, sigma, days)\n",
    "\n",
    "print(\"Preços simulados para 21 dias:\")\n",
    "for day, price in enumerate(simulated_prices, start=1):\n",
    "    print(f\"Dia {day}: {price:.2f}\")"
   ]
  }
 ],
 "metadata": {
  "kernelspec": {
   "display_name": "fgv_intro_prog_cd",
   "language": "python",
   "name": "python3"
  },
  "language_info": {
   "codemirror_mode": {
    "name": "ipython",
    "version": 3
   },
   "file_extension": ".py",
   "mimetype": "text/x-python",
   "name": "python",
   "nbconvert_exporter": "python",
   "pygments_lexer": "ipython3",
   "version": "3.11.11"
  }
 },
 "nbformat": 4,
 "nbformat_minor": 5
}
