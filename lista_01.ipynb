{
 "cells": [
  {
   "cell_type": "markdown",
   "id": "d2202a68",
   "metadata": {},
   "source": [
    "# Lista 1 de Introdução à Programação e Ciência de Dados\n",
    "\n",
    "Professor: Rafael de Pinho\n",
    "\n",
    "Monitor: Sillas Rocha\n",
    "\n",
    "Aluno: Iago Dantas Figueirêdo"
   ]
  },
  {
   "cell_type": "code",
   "execution_count": 1,
   "id": "e39a1d7f",
   "metadata": {},
   "outputs": [],
   "source": [
    "%load_ext autoreload\n",
    "%autoreload 2"
   ]
  },
  {
   "cell_type": "code",
   "execution_count": 15,
   "id": "8ea010d1",
   "metadata": {},
   "outputs": [],
   "source": [
    "from lista_01 import (\n",
    "    pares_e_impares,  # 1. Números Pares e Ímpares\n",
    "    filtrar_por_tamanho,  # 2. Filtrar por Comprimento\n",
    "    rotate_tuple,  # 3. Rotação de Tupla\n",
    "    transpose,  # 4. Transposta de Matriz\n",
    ")"
   ]
  },
  {
   "cell_type": "markdown",
   "id": "6798448e",
   "metadata": {},
   "source": [
    "## Parte 1: Listas e Tuplas"
   ]
  },
  {
   "cell_type": "markdown",
   "id": "e0257faf",
   "metadata": {},
   "source": [
    "### 1. Números Pares e Ímpares\n",
    "\n",
    "Crie uma função `pares_e_impares(nums)` que receba uma lista de números e retorne os números pares e ímpares em duas novas listas."
   ]
  },
  {
   "cell_type": "code",
   "execution_count": 3,
   "id": "b06e0b59",
   "metadata": {},
   "outputs": [
    {
     "name": "stdout",
     "output_type": "stream",
     "text": [
      "Números pares: [2, 10, 0]\n",
      "Números ímpares: [1, 3, 5, 77]\n"
     ]
    }
   ],
   "source": [
    "# Exemplo de uso da função pares_e_impares\n",
    "\n",
    "nums = [1, 2, 3, 5, 77, 10, 0]\n",
    "\n",
    "pares, impares = pares_e_impares(nums)\n",
    "\n",
    "print(f\"Números pares: {pares}\")\n",
    "print(f\"Números ímpares: {impares}\")"
   ]
  },
  {
   "cell_type": "markdown",
   "id": "d544b471",
   "metadata": {},
   "source": [
    "### 2. Filtrar por Comprimento\n",
    "\n",
    "Crie uma função `filtrar_por_tamanho(lista, k)` que receba uma lista de strings e um inteiro `k` , retornando apenas as palavras com comprimento maior que `k`."
   ]
  },
  {
   "cell_type": "code",
   "execution_count": 6,
   "id": "c74c89ed",
   "metadata": {},
   "outputs": [
    {
     "name": "stdout",
     "output_type": "stream",
     "text": [
      "Strings com mais de 3 letras: ['cccc', 'ddddd', 'eeeeee']\n"
     ]
    }
   ],
   "source": [
    "# Exemplo de uso da função filtrar_por_tamanho\n",
    "\n",
    "lista = [\"aa\", \"bbb\", \"cccc\", \"ddddd\", \"eeeeee\"]\n",
    "k = 3\n",
    "\n",
    "resultado = filtrar_por_tamanho(lista, k)\n",
    "\n",
    "print(f\"Strings com mais de {k} letras: {resultado}\")"
   ]
  },
  {
   "cell_type": "markdown",
   "id": "727eca09",
   "metadata": {},
   "source": [
    "### 3. Rotação de Tupla\n",
    "\n",
    "Escreva uma função `rotate_tuple(tpl, n)` que, dada uma tupla e um inteiro $n$, retorne uma nova tupla cujos elementos foram rotacionados $n$ posições à direita, por exemplo, a entrada $(1,2,3,4,5)$ rotacionada 2 para frente, resultará em $(4,5,1,2,3)$."
   ]
  },
  {
   "cell_type": "code",
   "execution_count": 13,
   "id": "8b99cfe0",
   "metadata": {},
   "outputs": [
    {
     "name": "stdout",
     "output_type": "stream",
     "text": [
      "Tupla original: (1, 2, 3, 4, 5)\n",
      "Tupla rotacionada: (4, 5, 1, 2, 3)\n"
     ]
    }
   ],
   "source": [
    "# Exemplo de uso da função rotate_tuple\n",
    "\n",
    "tpl = (1, 2, 3, 4, 5)\n",
    "n = 2\n",
    "\n",
    "resultado = rotate_tuple(tpl, n)\n",
    "\n",
    "print(f\"Tupla original: {tpl}\")\n",
    "print(f\"Tupla rotacionada: {resultado}\")"
   ]
  },
  {
   "cell_type": "markdown",
   "id": "d9610977",
   "metadata": {},
   "source": [
    "### 4. Transposta de Matriz\n",
    "\n",
    "Crie uma função `transpose(matrix)` que receba uma lista de listas (matriz) e retorne sua transposta. Não use bibliotecas externas."
   ]
  },
  {
   "cell_type": "code",
   "execution_count": 17,
   "id": "51bb87b9",
   "metadata": {},
   "outputs": [
    {
     "name": "stdout",
     "output_type": "stream",
     "text": [
      "Matriz original:\n",
      "[1, 2, 3, 4]\n",
      "[5, 6, 7, 8]\n",
      "Matriz transposta:\n",
      "[1, 5]\n",
      "[2, 6]\n",
      "[3, 7]\n",
      "[4, 8]\n"
     ]
    }
   ],
   "source": [
    "# Exemplo de uso da função transpose\n",
    "\n",
    "matriz = [\n",
    "    [1, 2, 3, 4],\n",
    "    [5, 6, 7, 8],\n",
    "]\n",
    "\n",
    "resultado = transpose(matriz)\n",
    "\n",
    "print(\"Matriz original:\")\n",
    "for linha in matriz:\n",
    "    print(linha)\n",
    "print(\"Matriz transposta:\")\n",
    "for linha in resultado:\n",
    "    print(linha)"
   ]
  },
  {
   "cell_type": "markdown",
   "id": "6104befc",
   "metadata": {},
   "source": []
  }
 ],
 "metadata": {
  "kernelspec": {
   "display_name": "fgv_intro_prog_cd",
   "language": "python",
   "name": "python3"
  },
  "language_info": {
   "codemirror_mode": {
    "name": "ipython",
    "version": 3
   },
   "file_extension": ".py",
   "mimetype": "text/x-python",
   "name": "python",
   "nbconvert_exporter": "python",
   "pygments_lexer": "ipython3",
   "version": "3.11.11"
  }
 },
 "nbformat": 4,
 "nbformat_minor": 5
}
