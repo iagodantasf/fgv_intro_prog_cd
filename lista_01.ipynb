{
 "cells": [
  {
   "cell_type": "markdown",
   "id": "d2202a68",
   "metadata": {},
   "source": [
    "# Lista 1 de Introdução à Programação e Ciência de Dados\n",
    "\n",
    "Professor: Rafael de Pinho\n",
    "\n",
    "Monitor: Sillas Rocha\n",
    "\n",
    "Aluno: Iago Dantas Figueirêdo"
   ]
  },
  {
   "cell_type": "code",
   "execution_count": 1,
   "id": "e39a1d7f",
   "metadata": {},
   "outputs": [],
   "source": [
    "%load_ext autoreload\n",
    "%autoreload 2"
   ]
  },
  {
   "cell_type": "code",
   "execution_count": 2,
   "id": "8ea010d1",
   "metadata": {},
   "outputs": [],
   "source": [
    "from lista_01 import (\n",
    "    pares_e_impares,\n",
    "    filtrar_por_tamanho,\n",
    "    rotate_tuple,\n",
    "    transpose,\n",
    "    flatten,\n",
    "    group_by,\n",
    "    invert_map,\n",
    "    indices_of,\n",
    "    merge_dicts,\n",
    "    conta_digitos,\n",
    "    count_anagrams,\n",
    "    parse_csv,\n",
    "    validar_sudoku,\n",
    ")"
   ]
  },
  {
   "cell_type": "markdown",
   "id": "6798448e",
   "metadata": {},
   "source": [
    "## Parte 1: Listas e Tuplas"
   ]
  },
  {
   "cell_type": "markdown",
   "id": "e0257faf",
   "metadata": {},
   "source": [
    "### 1. Números Pares e Ímpares\n",
    "\n",
    "Crie uma função `pares_e_impares(nums)` que receba uma lista de números e retorne os números pares e ímpares em duas novas listas."
   ]
  },
  {
   "cell_type": "code",
   "execution_count": 3,
   "id": "b06e0b59",
   "metadata": {},
   "outputs": [
    {
     "name": "stdout",
     "output_type": "stream",
     "text": [
      "Números pares: [2, 10, 0]\n",
      "Números ímpares: [1, 3, 5, 77]\n"
     ]
    }
   ],
   "source": [
    "# Exemplo de uso da função pares_e_impares\n",
    "\n",
    "nums = [1, 2, 3, 5, 77, 10, 0]\n",
    "\n",
    "pares, impares = pares_e_impares(nums)\n",
    "\n",
    "print(f\"Números pares: {pares}\")\n",
    "print(f\"Números ímpares: {impares}\")"
   ]
  },
  {
   "cell_type": "markdown",
   "id": "d544b471",
   "metadata": {},
   "source": [
    "### 2. Filtrar por Comprimento\n",
    "\n",
    "Crie uma função `filtrar_por_tamanho(lista, k)` que receba uma lista de strings e um inteiro `k` , retornando apenas as palavras com comprimento maior que `k`."
   ]
  },
  {
   "cell_type": "code",
   "execution_count": 4,
   "id": "c74c89ed",
   "metadata": {},
   "outputs": [
    {
     "name": "stdout",
     "output_type": "stream",
     "text": [
      "Strings com mais de 3 letras: ['cccc', 'ddddd', 'eeeeee']\n"
     ]
    }
   ],
   "source": [
    "# Exemplo de uso da função filtrar_por_tamanho\n",
    "\n",
    "lista = [\"aa\", \"bbb\", \"cccc\", \"ddddd\", \"eeeeee\"]\n",
    "k = 3\n",
    "\n",
    "resultado = filtrar_por_tamanho(lista, k)\n",
    "\n",
    "print(f\"Strings com mais de {k} letras: {resultado}\")"
   ]
  },
  {
   "cell_type": "markdown",
   "id": "727eca09",
   "metadata": {},
   "source": [
    "### 3. Rotação de Tupla\n",
    "\n",
    "Escreva uma função `rotate_tuple(tpl, n)` que, dada uma tupla e um inteiro $n$, retorne uma nova tupla cujos elementos foram rotacionados $n$ posições à direita, por exemplo, a entrada $(1,2,3,4,5)$ rotacionada 2 para frente, resultará em $(4,5,1,2,3)$."
   ]
  },
  {
   "cell_type": "code",
   "execution_count": 5,
   "id": "8b99cfe0",
   "metadata": {},
   "outputs": [
    {
     "name": "stdout",
     "output_type": "stream",
     "text": [
      "Tupla original: (1, 2, 3, 4, 5)\n",
      "Tupla rotacionada: (4, 5, 1, 2, 3)\n"
     ]
    }
   ],
   "source": [
    "# Exemplo de uso da função rotate_tuple\n",
    "\n",
    "tpl = (1, 2, 3, 4, 5)\n",
    "n = 2\n",
    "\n",
    "resultado = rotate_tuple(tpl, n)\n",
    "\n",
    "print(f\"Tupla original: {tpl}\")\n",
    "print(f\"Tupla rotacionada: {resultado}\")"
   ]
  },
  {
   "cell_type": "markdown",
   "id": "d9610977",
   "metadata": {},
   "source": [
    "### 4. Transposta de Matriz\n",
    "\n",
    "Crie uma função `transpose(matrix)` que receba uma lista de listas (matriz) e retorne sua transposta. Não use bibliotecas externas."
   ]
  },
  {
   "cell_type": "code",
   "execution_count": 6,
   "id": "51bb87b9",
   "metadata": {},
   "outputs": [
    {
     "name": "stdout",
     "output_type": "stream",
     "text": [
      "Matriz original:\n",
      "[1, 2, 3, 4]\n",
      "[5, 6, 7, 8]\n",
      "Matriz transposta:\n",
      "[1, 5]\n",
      "[2, 6]\n",
      "[3, 7]\n",
      "[4, 8]\n"
     ]
    }
   ],
   "source": [
    "# Exemplo de uso da função transpose\n",
    "\n",
    "matriz = [\n",
    "    [1, 2, 3, 4],\n",
    "    [5, 6, 7, 8],\n",
    "]\n",
    "\n",
    "resultado = transpose(matriz)\n",
    "\n",
    "print(\"Matriz original:\")\n",
    "for linha in matriz:\n",
    "    print(linha)\n",
    "print(\"Matriz transposta:\")\n",
    "for linha in resultado:\n",
    "    print(linha)"
   ]
  },
  {
   "cell_type": "markdown",
   "id": "6104befc",
   "metadata": {},
   "source": [
    "### 5. Alisamento de Lista Aninhada\n",
    "\n",
    "Defina uma função `flatten(lst)` que receba uma lista potencialmente aninhada (listas dentro de listas em qualquer profundidade) e retorne uma lista “achatada” contendo todos os elementos na ordem em que aparecem."
   ]
  },
  {
   "cell_type": "code",
   "execution_count": 7,
   "id": "75edc306",
   "metadata": {},
   "outputs": [
    {
     "name": "stdout",
     "output_type": "stream",
     "text": [
      "Lista original: [1, [2, 3], [4, [5, 6]], 7]\n",
      "Lista achatada: [1, 2, 3, 4, 5, 6, 7]\n"
     ]
    }
   ],
   "source": [
    "# Exemplo de uso da função flatten\n",
    "\n",
    "lst = [1, [2, 3], [4, [5, 6]], 7]\n",
    "\n",
    "resultado = flatten(lst)\n",
    "\n",
    "print(f\"Lista original: {lst}\")\n",
    "print(f\"Lista achatada: {resultado}\")"
   ]
  },
  {
   "cell_type": "markdown",
   "id": "eca93daf",
   "metadata": {},
   "source": [
    "## Parte 2: Dicionários"
   ]
  },
  {
   "cell_type": "markdown",
   "id": "9d2c458b",
   "metadata": {},
   "source": [
    "### 1. Agrupamento por Chave\n",
    "\n",
    "Dada uma lista de tuplas `(chave, valor)`, implemente `group_by(pairs)` que retorne um dicionário cujas chaves sejam as chaves originais e os valores sejam listas de todos os valores associados, note que pode haver mais de um valor associado a mesma chave, por exemplo, a lista [(\"A\", 1), (\"B\", 1), (\"C\", 3), (\"A\", 4)] resultará em: {\"A\": [1,4], \"B\": [1], \"C\": [3]}."
   ]
  },
  {
   "cell_type": "code",
   "execution_count": 8,
   "id": "79950768",
   "metadata": {},
   "outputs": [
    {
     "name": "stdout",
     "output_type": "stream",
     "text": [
      "Lista de pares: [('A', 1), ('B', 1), ('C', 3), ('A', 4)]\n",
      "Dicionário agrupado:\n",
      "A: [1, 4]\n",
      "B: [1]\n",
      "C: [3]\n"
     ]
    }
   ],
   "source": [
    "# Exemplo de uso da função group_by\n",
    "\n",
    "pairs = [(\"A\", 1), (\"B\", 1), (\"C\", 3), (\"A\", 4)]\n",
    "\n",
    "resultado = group_by(pairs)\n",
    "\n",
    "print(f\"Lista de pares: {pairs}\")\n",
    "print(\"Dicionário agrupado:\")\n",
    "for key, values in resultado.items():\n",
    "    print(f\"{key}: {values}\")"
   ]
  },
  {
   "cell_type": "markdown",
   "id": "0f48a763",
   "metadata": {},
   "source": [
    "### 2. Inversão de Mapeamento\n",
    "\n",
    "Defina `invert_map(d)` que receba um dicionário de chaves para valores únicos e retorne um novo dicionário invertendo chaves e valores."
   ]
  },
  {
   "cell_type": "code",
   "execution_count": 9,
   "id": "c495c97b",
   "metadata": {},
   "outputs": [
    {
     "name": "stdout",
     "output_type": "stream",
     "text": [
      "Dicionário original: {'A': 1, 'B': 2, 'C': 3}\n",
      "Dicionário invertido: {1: 'A', 2: 'B', 3: 'C'}\n"
     ]
    }
   ],
   "source": [
    "# Exemplo de uso da função invert_map\n",
    "\n",
    "d = {\"A\": 1, \"B\": 2, \"C\": 3}\n",
    "\n",
    "resultado = invert_map(d)\n",
    "\n",
    "print(f\"Dicionário original: {d}\")\n",
    "print(f\"Dicionário invertido: {resultado}\")"
   ]
  },
  {
   "cell_type": "markdown",
   "id": "d99ce76d",
   "metadata": {},
   "source": [
    "### 3. Índices por Valor\n",
    "\n",
    "Implemente `indices_of(lst)` que receba uma lista e retorne um dicionário onde cada valor da lista é chave, e o valor é a lista de índices onde ele aparece."
   ]
  },
  {
   "cell_type": "code",
   "execution_count": 10,
   "id": "677d2f43",
   "metadata": {},
   "outputs": [
    {
     "name": "stdout",
     "output_type": "stream",
     "text": [
      "Lista: [1, 2, 3, 1]\n",
      "Índices de cada elemento:\n",
      "1: [0, 3]\n",
      "2: [1]\n",
      "3: [2]\n"
     ]
    }
   ],
   "source": [
    "# Exemplo de uso da função indices_of\n",
    "\n",
    "lst = [1, 2, 3, 1]\n",
    "\n",
    "resultado = indices_of(lst)\n",
    "\n",
    "print(f\"Lista: {lst}\")\n",
    "print(\"Índices de cada elemento:\")\n",
    "for key, indices in resultado.items():\n",
    "    print(f\"{key}: {indices}\")"
   ]
  },
  {
   "cell_type": "markdown",
   "id": "b452bdf8",
   "metadata": {},
   "source": [
    "### 4. Fusão com Resolução de Conflitos\n",
    "\n",
    "Escreva `merge_dicts(dicts)` que receba uma lista de dicionários com valores numéricos e retorne um único dicionário. Se uma chave repetir, some os valores; caso contrário, apenas inclua, por exemplo, os dicionários [{\"A\": 1, \"B\": 1, \"C\": 3}, {\"A\": 4, \"B\": -4, \"D\": 2}] resultará em: {\"A\": 5, \"B\": -3, \"C\": 3, \"D\": 2}."
   ]
  },
  {
   "cell_type": "code",
   "execution_count": 11,
   "id": "f9cb76e9",
   "metadata": {},
   "outputs": [
    {
     "name": "stdout",
     "output_type": "stream",
     "text": [
      "Dicionários originais:\n",
      "{'A': 1, 'B': 1, 'C': 3}\n",
      "{'A': 4, 'B': -4, 'D': 2}\n",
      "Dicionário mesclado: {'A': 5, 'B': -3, 'C': 3, 'D': 2}\n"
     ]
    }
   ],
   "source": [
    "# Exemplo de uso da função merge_dicts\n",
    "\n",
    "dicts = [{\"A\": 1, \"B\": 1, \"C\": 3}, {\"A\": 4, \"B\": -4, \"D\": 2}]\n",
    "\n",
    "resultado = merge_dicts(dicts)\n",
    "\n",
    "print(\"Dicionários originais:\")\n",
    "for d in dicts:\n",
    "    print(d)\n",
    "print(f\"Dicionário mesclado: {resultado}\")"
   ]
  },
  {
   "cell_type": "markdown",
   "id": "33a9ca3b",
   "metadata": {},
   "source": [
    "### 5. Contador de Dígitos\n",
    "\n",
    "Defina `conta_digitos(n)` que receba um inteiro (pode ser negativo) e retorne um dicionário onde as chaves são os dígitos (0-9) e os valores são quantas vezes aparecem na representação decimal de n."
   ]
  },
  {
   "cell_type": "code",
   "execution_count": 12,
   "id": "c6b4980b",
   "metadata": {},
   "outputs": [
    {
     "name": "stdout",
     "output_type": "stream",
     "text": [
      "Número: -133444445999\n",
      "Contagem de dígitos:\n",
      "0: 0\n",
      "1: 1\n",
      "2: 0\n",
      "3: 2\n",
      "4: 5\n",
      "5: 1\n",
      "6: 0\n",
      "7: 0\n",
      "8: 0\n",
      "9: 3\n"
     ]
    }
   ],
   "source": [
    "# Exemplo de uso da função conta_digitos\n",
    "\n",
    "n = -133444445999\n",
    "\n",
    "resultado = conta_digitos(n)\n",
    "\n",
    "print(f\"Número: {n}\")\n",
    "print(\"Contagem de dígitos:\")\n",
    "for digito, contagem in resultado.items():\n",
    "    print(f\"{digito}: {contagem}\")"
   ]
  },
  {
   "cell_type": "markdown",
   "id": "c093eb8a",
   "metadata": {},
   "source": [
    "## Parte 3: Desafios de Funções"
   ]
  },
  {
   "cell_type": "markdown",
   "id": "1da15f79",
   "metadata": {},
   "source": [
    "### 1. Contador de Anagramas\n",
    "\n",
    "Implemente `count_anagrams(words)` que receba uma lista de strings e retorne um dicionário onde cada \"chave\" é a palavra com as letras ordenadas em ordem alfabética e o valor é a lista de palavras que correspondem a esse anagrama, por exemplo, [\"bolo\", \"lobo\"], resultará em {\"bloo\": [\"bolo\", \"lobo\"]}."
   ]
  },
  {
   "cell_type": "code",
   "execution_count": 13,
   "id": "1e782c97",
   "metadata": {},
   "outputs": [
    {
     "name": "stdout",
     "output_type": "stream",
     "text": [
      "Palavras: ['bolo', 'lobo']\n",
      "Contagem de anagramas:\n",
      "bloo: ['bolo', 'lobo']\n"
     ]
    }
   ],
   "source": [
    "# Exemplo de uso da função count_anagrams\n",
    "\n",
    "words = [\"bolo\", \"lobo\"]\n",
    "\n",
    "resultado = count_anagrams(words)\n",
    "\n",
    "print(f\"Palavras: {words}\")\n",
    "print(\"Contagem de anagramas:\")\n",
    "for key, count in resultado.items():\n",
    "    print(f\"{key}: {count}\")"
   ]
  },
  {
   "cell_type": "markdown",
   "id": "58b1cc9c",
   "metadata": {},
   "source": [
    "### 2. Parser de CSV\n",
    "\n",
    "Crie `parse_csv(text, sep=', ')` que receba uma string com várias linhas de CSV, uma representação tabular onde a primeira linha é o cabeçalho e as colunas são separadas por vírgulas, (sem usar `csv` do Python) e retorne uma lista de dicionários, usando a primeira linha como cabeçalho. Nesta você recebará um texto do estilo:\n",
    "\n",
    "```\n",
    "Altura, Nome, Idade\n",
    "177, Pedro, 21\n",
    "191, Carlos, 33\n",
    "169, Alice, 23\n",
    "```\n",
    "\n",
    "E retornará um dicionário no estilo:\n",
    "\n",
    "```python\n",
    "{\"Altura\": [177, 191, 169],\n",
    "\"Nome\": [\"Pedro\", \"Carlos\", \"Alice\"],\n",
    "\"Idade\": [21, 33, 23]}\n",
    "```"
   ]
  },
  {
   "cell_type": "code",
   "execution_count": 14,
   "id": "c07cbe6d",
   "metadata": {},
   "outputs": [
    {
     "name": "stdout",
     "output_type": "stream",
     "text": [
      "CSV original:\n",
      "\n",
      "Altura, Nome, Idade\n",
      "177, Pedro, 21\n",
      "191, Carlos, 33\n",
      "169, Alice, 23\n",
      "\n",
      "Dicionário resultante:\n",
      "Altura: [177, 191, 169]\n",
      "Nome: ['Pedro', 'Carlos', 'Alice']\n",
      "Idade: [21, 33, 23]\n"
     ]
    }
   ],
   "source": [
    "# Exemplo de uso da função parse_csv\n",
    "\n",
    "text = \"\"\"\n",
    "Altura, Nome, Idade\n",
    "177, Pedro, 21\n",
    "191, Carlos, 33\n",
    "169, Alice, 23\n",
    "\"\"\"\n",
    "\n",
    "resultado = parse_csv(text)\n",
    "\n",
    "print(\"CSV original:\")\n",
    "print(text)\n",
    "print(\"Dicionário resultante:\")\n",
    "for key, values in resultado.items():\n",
    "    print(f\"{key}: {values}\")"
   ]
  },
  {
   "cell_type": "markdown",
   "id": "eeee1982",
   "metadata": {},
   "source": [
    "### 3. Validação de Sudoku\n",
    "\n",
    "Dado um tabuleiro $9 \\times 9$ representado por lista de listas de inteiros (0 para vazio), crie `validar_sudoku(tabuleiro)` que retorne `True` se não houver duplicatas em nenhuma linha, coluna ou bloco $3 \\times 3$ (ignorando zeros), e `False` caso contrário."
   ]
  },
  {
   "cell_type": "code",
   "execution_count": 15,
   "id": "3e222a25",
   "metadata": {},
   "outputs": [
    {
     "name": "stdout",
     "output_type": "stream",
     "text": [
      "Tabuleiro 1 é válido\n",
      "Tabuleiro 2 é inválido\n"
     ]
    }
   ],
   "source": [
    "# Exemplo de uso da função validar_sudoku\n",
    "\n",
    "tabuleiro_1 = [\n",
    "    [5, 2, 3, 0, 1, 7, 8, 0, 9],\n",
    "    [9, 0, 0, 5, 3, 4, 7, 6, 0],\n",
    "    [7, 0, 0, 8, 2, 0, 0, 3, 5],\n",
    "    [0, 7, 6, 0, 0, 1, 4, 8, 0],\n",
    "    [0, 3, 5, 0, 4, 0, 2, 9, 6],\n",
    "    [8, 0, 0, 2, 6, 0, 0, 7, 0],\n",
    "    [0, 5, 1, 0, 7, 6, 0, 2, 8],\n",
    "    [0, 0, 0, 0, 0, 2, 6, 0, 4],\n",
    "    [0, 9, 0, 0, 0, 0, 0, 1, 0],\n",
    "]\n",
    "tabuleiro_2 = [\n",
    "    [5, 2, 3, 0, 1, 7, 8, 0, 9],\n",
    "    [9, 0, 0, 5, 3, 4, 7, 6, 0],\n",
    "    [7, 0, 0, 8, 2, 0, 0, 3, 5],\n",
    "    [0, 7, 6, 0, 0, 1, 4, 8, 0],\n",
    "    [0, 3, 5, 0, 4, 0, 2, 9, 6],\n",
    "    [8, 0, 0, 2, 6, 0, 0, 7, 0],\n",
    "    [0, 5, 1, 0, 7, 6, 0, 2, 8],\n",
    "    [4, 0, 0, 0, 0, 2, 6, 0, 4],\n",
    "    [0, 9, 0, 0, 0, 0, 0, 1, 0],\n",
    "]\n",
    "\n",
    "resultado_1 = validar_sudoku(tabuleiro_1)\n",
    "resultado_2 = validar_sudoku(tabuleiro_2)\n",
    "\n",
    "print(\"Tabuleiro 1 é válido\" if resultado_1 else \"Tabuleiro 1 é inválido\")\n",
    "print(\"Tabuleiro 2 é válido\" if resultado_2 else \"Tabuleiro 2 é inválido\")"
   ]
  }
 ],
 "metadata": {
  "kernelspec": {
   "display_name": "fgv_intro_prog_cd",
   "language": "python",
   "name": "python3"
  },
  "language_info": {
   "codemirror_mode": {
    "name": "ipython",
    "version": 3
   },
   "file_extension": ".py",
   "mimetype": "text/x-python",
   "name": "python",
   "nbconvert_exporter": "python",
   "pygments_lexer": "ipython3",
   "version": "3.11.11"
  }
 },
 "nbformat": 4,
 "nbformat_minor": 5
}
